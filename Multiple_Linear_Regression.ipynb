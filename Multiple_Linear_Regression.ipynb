{
  "nbformat": 4,
  "nbformat_minor": 0,
  "metadata": {
    "colab": {
      "name": "Multiple_Linear_Regression.ipynb",
      "provenance": [],
      "authorship_tag": "ABX9TyPPD1ALk3W0Ih6mTEL7++ih",
      "include_colab_link": true
    },
    "kernelspec": {
      "name": "python3",
      "display_name": "Python 3"
    },
    "language_info": {
      "name": "python"
    }
  },
  "cells": [
    {
      "cell_type": "markdown",
      "metadata": {
        "id": "view-in-github",
        "colab_type": "text"
      },
      "source": [
        "<a href=\"https://colab.research.google.com/github/purosh96/ML/blob/main/Multiple_Linear_Regression.ipynb\" target=\"_parent\"><img src=\"https://colab.research.google.com/assets/colab-badge.svg\" alt=\"Open In Colab\"/></a>"
      ]
    },
    {
      "cell_type": "code",
      "execution_count": 1,
      "metadata": {
        "id": "In7Z9lYpBWJb"
      },
      "outputs": [],
      "source": [
        "from google.colab import files"
      ]
    },
    {
      "cell_type": "code",
      "source": [
        "files.upload()"
      ],
      "metadata": {
        "colab": {
          "resources": {
            "http://localhost:8080/nbextensions/google.colab/files.js": {
              "data": "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",
              "ok": true,
              "headers": [
                [
                  "content-type",
                  "application/javascript"
                ]
              ],
              "status": 200,
              "status_text": ""
            }
          },
          "base_uri": "https://localhost:8080/",
          "height": 111
        },
        "id": "RetQOzqqBtEV",
        "outputId": "7dd2cdfb-2a2c-4c48-e6e8-eb548b614f59"
      },
      "execution_count": 2,
      "outputs": [
        {
          "output_type": "display_data",
          "data": {
            "text/html": [
              "\n",
              "     <input type=\"file\" id=\"files-afa9290d-2a0c-4cef-bf6c-bb4db3757d26\" name=\"files[]\" multiple disabled\n",
              "        style=\"border:none\" />\n",
              "     <output id=\"result-afa9290d-2a0c-4cef-bf6c-bb4db3757d26\">\n",
              "      Upload widget is only available when the cell has been executed in the\n",
              "      current browser session. Please rerun this cell to enable.\n",
              "      </output>\n",
              "      <script src=\"/nbextensions/google.colab/files.js\"></script> "
            ],
            "text/plain": [
              "<IPython.core.display.HTML object>"
            ]
          },
          "metadata": {}
        },
        {
          "output_type": "stream",
          "name": "stdout",
          "text": [
            "Saving fuel_consumption.csv to fuel_consumption.csv\n"
          ]
        },
        {
          "output_type": "execute_result",
          "data": {
            "text/plain": [
              "{'fuel_consumption.csv': b'Model Year,Make,Model,Vehicle Class,Engine Size (L),Cylinders,Transmission,Fuel Type,City (L/100 km),Hwy (L/100 km),Comb (L/100 km),Comb (mpg),CO2 Emissions (g/km),CO2 Rating,Smog Rating\\r\\n2019,Acura,ILX,Compact,2.4,4,AM8,Z,9.9,7,8.6,33,199,6,3\\r\\n2019,Acura,MDX SH-AWD,SUV: Small,3.5,6,AS9,Z,12.2,9,10.8,26,252,4,3\\r\\n2019,Acura,MDX SH-AWD A-SPEC,SUV: Small,3.5,6,AS9,Z,12.2,9.5,11,26,258,4,3\\r\\n2019,Acura,MDX Hybrid AWD,SUV: Small,3,6,AM7,Z,9.1,9,9,31,210,5,3\\r\\n2019,Acura,NSX,Two-seater,3.5,6,AM9,Z,11.1,10.8,11,26,261,4,3\\r\\n2019,Acura,RDX AWD,SUV: Small,2,4,AS10,Z,11,8.6,9.9,29,232,5,6\\r\\n2019,Acura,RDX AWD A-SPEC,SUV: Small,2,4,AS10,Z,11.3,9.1,10.3,27,242,5,6\\r\\n2019,Acura,RLX Hybrid,Mid-size,3.5,6,AM7,Z,8.4,8.2,8.4,34,196,6,7\\r\\n2019,Acura,TLX,Compact,2.4,4,AM8,Z,10,7.1,8.7,32,205,6,3\\r\\n2019,Acura,TLX A-SPEC,Compact,2.4,4,AM8,Z,10.2,7.4,8.9,32,209,5,3\\r\\n2019,Acura,TLX SH-AWD,Compact,3.5,6,AS9,Z,11.4,7.7,9.8,29,228,5,3\\r\\n2019,Acura,TLX SH-AWD A-SPEC,Compact,3.5,6,AS9,Z,12,8.2,10.3,27,240,5,3\\r\\n2019,Alfa Romeo,4C Coupe,Two-seater,1.8,4,AM6,Z,9.7,6.9,8.4,34,197,6,1\\r\\n2019,Alfa Romeo,4C Spider,Two-seater,1.8,4,AM6,Z,9.7,6.9,8.4,34,197,6,1\\r\\n2019,Alfa Romeo,Giulia,Mid-size,2,4,A8,Z,10,7.2,8.7,32,205,6,3\\r\\n2019,Alfa Romeo,Giulia AWD,Mid-size,2,4,A8,Z,10.5,7.7,9.2,31,217,5,3\\r\\n2019,Alfa Romeo,Giulia Quadrifoglio,Mid-size,2.9,6,A8,Z,13.8,9.6,11.9,24,280,4,3\\r\\n2019,Alfa Romeo,Stelvio,SUV: Small,2,4,A8,Z,10.3,8.1,9.3,30,218,5,3\\r\\n2019,Alfa Romeo,Stelvio AWD,SUV: Small,2,4,A8,Z,10.8,8.3,9.6,29,226,5,3\\r\\n2019,Alfa Romeo,Stelvio AWD Quadrifoglio,SUV: Small,2.9,6,A8,Z,14.1,10.4,12.4,23,292,3,3\\r\\n2019,Aston Martin,DB11 V8,Minicompact,4,8,A8,Z,13,9.8,11.5,25,271,4,3\\r\\n2019,Aston Martin,DB11 AMR,Minicompact,5.2,12,A8,Z,15.5,10.6,13.3,21,312,3,3\\r\\n2019,Aston Martin,DBS Superleggera,Minicompact,5.2,12,A8,Z,16.4,10.7,13.8,20,324,3,3\\r\\n2019,Aston Martin,Rapide AMR,Subcompact,6,12,A8,Z,16.7,10.9,14.1,20,332,3,3\\r\\n2019,Aston Martin,Vanquish Zagato,Minicompact,6,12,A8,Z,17.5,11.4,14.7,19,346,2,3\\r\\n2019,Aston Martin,Vantage V8,Two-seater,4,8,A8,Z,12.7,9.4,11.2,25,264,4,3\\r\\n2019,Audi,A3,Subcompact,2,4,AM7,X,9.1,6.8,8.1,35,188,6,7\\r\\n2019,Audi,A3 quattro,Subcompact,2,4,AM7,X,10.9,7.9,9.6,29,225,5,7\\r\\n2019,Audi,A3 Cabriolet quattro,Subcompact,2,4,AM7,X,10.7,7.9,9.5,30,221,5,7\\r\\n2019,Audi,A4,Compact,2,4,AM7,Z,8.6,6.9,7.8,36,182,7,5\\r\\n2019,Audi,A4 quattro,Compact,2,4,AM7,Z,10,7,8.7,32,204,6,5\\r\\n2019,Audi,A4 allroad quattro,Station wagon: Small,2,4,AM7,Z,10.7,8,9.5,30,221,6,5\\r\\n2019,Audi,A5 quattro,Subcompact,2,4,AM7,Z,10,7,8.7,32,204,6,5\\r\\n2019,Audi,A5 Cabriolet quattro,Subcompact,2,4,AM7,Z,10,7,8.7,32,204,6,5\\r\\n2019,Audi,A5 Sportback quattro,Mid-size,2,4,AM7,Z,10,7,8.7,32,204,6,5\\r\\n2019,Audi,A6 quattro,Mid-size,3,6,AM7,Z,10.7,8.2,9.6,29,224,5,5\\r\\n2019,Audi,A7 quattro,Mid-size,3,6,AM7,Z,10.7,8.2,9.6,29,224,5,5\\r\\n2019,Audi,A8L,Full-size,3,6,AS8,Z,12.5,8.6,10.8,26,252,4,3\\r\\n2019,Audi,Q3 quattro,SUV: Small,2,4,AS8,X,12.3,8.6,10.6,27,248,4,7\\r\\n2019,Audi,Q5,SUV: Small,2,4,AM7,Z,10.9,8.7,9.9,29,230,5,3\\r\\n2019,Audi,Q7,SUV: Standard,2,4,AS8,Z,12.2,9.5,11,26,258,4,3\\r\\n2019,Audi,Q7,SUV: Standard,3,6,AS8,Z,12.6,9.4,11.1,25,260,4,3\\r\\n2019,Audi,Q8,SUV: Standard,3,6,AS8,Z,14,10.7,12.5,23,294,3,3\\r\\n2019,Audi,RS 3,Subcompact,2.5,5,AM7,Z,12.4,8.4,10.6,27,247,4,3\\r\\n2019,Audi,RS 5 Coupe,Subcompact,2.9,6,AS8,Z,13.3,8.7,11.3,25,262,4,5\\r\\n2019,Audi,RS 5 Sportback,Mid-size,2.9,6,AS8,Z,13.5,9,11.5,25,268,4,5\\r\\n2019,Audi,S3,Subcompact,2,4,AM7,Z,10.7,8,9.5,30,222,5,3\\r\\n2019,Audi,S4,Compact,3,6,AS8,Z,11.3,8,9.8,29,230,5,5\\r\\n2019,Audi,S5,Subcompact,3,6,AS8,Z,11.3,8,9.8,29,230,5,5\\r\\n2019,Audi,S5 Cabriolet,Subcompact,3,6,AS8,Z,11.4,8.2,9.9,29,234,5,5\\r\\n2019,Audi,S5 Sportback,Mid-size,3,6,AS8,Z,11.3,8,9.8,29,230,5,5\\r\\n2019,Audi,SQ5,SUV: Small,3,6,AS8,Z,12.7,10,11.5,25,270,4,5\\r\\n2019,Audi,TT Coupe quattro,Subcompact,2,4,AM7,X,10.3,7.7,9.2,31,213,5,7\\r\\n2019,Audi,TT Roadster quattro,Two-seater,2,4,AM7,X,10.3,7.7,9.2,31,213,5,7\\r\\n2019,Audi,TT RS Coupe,Subcompact,2.5,5,AM7,Z,12,8.3,10.3,27,241,5,3\\r\\n2019,Audi,TTS Coupe,Subcompact,2,4,AM7,Z,10.4,8.2,9.4,30,220,5,3\\r\\n2019,Bentley,Bentayga,SUV: Standard,4,8,AS8,Z,16.4,10.1,13.6,21,315,3,3\\r\\n2019,Bentley,Mulsanne,Mid-size,6.8,8,AS8,Z,24.5,14.4,20,14,465,1,1\\r\\n2019,BMW,230i xDrive Cabriolet,Subcompact,2,4,AS8,Z,10.2,7.2,8.8,32,207,6,7\\r\\n2019,BMW,230i xDrive Coupe,Subcompact,2,4,AS8,Z,9.9,7.1,8.6,33,202,6,7\\r\\n2019,BMW,330i xDrive,Compact,2,4,AS8,Z,9.5,6.9,8.3,34,194,6,7\\r\\n2019,BMW,330i xDrive Gran Turismo,Full-size,2,4,AS8,Z,10.2,7.2,8.8,32,207,6,7\\r\\n2019,BMW,330i xDrive Touring,Station wagon: Small,2,4,AS8,Z,10.2,7.2,8.8,32,207,6,7\\r\\n2019,BMW,430i xDrive Cabriolet,Subcompact,2,4,AS8,Z,10.6,7.3,9.1,31,213,5,7\\r\\n2019,BMW,430i xDrive Coupe,Compact,2,4,AS8,Z,10.2,7.2,8.8,32,207,6,7\\r\\n2019,BMW,430i xDrive Gran Coupe,Compact,2,4,AS8,Z,10.2,7.2,8.8,32,207,6,7\\r\\n2019,BMW,440i Coupe,Compact,3,6,AS8,Z,11.2,7.3,9.4,30,227,5,3\\r\\n2019,BMW,440i Coupe,Compact,3,6,M6,Z,12.8,8.8,11,26,256,4,3\\r\\n2019,BMW,440i xDrive Cabriolet,Subcompact,3,6,AS8,Z,11.8,7.9,10,28,235,5,3\\r\\n2019,BMW,440i xDrive Coupe,Compact,3,6,AS8,Z,11.4,7.6,9.7,29,228,5,3\\r\\n2019,BMW,440i xDrive Coupe,Compact,3,6,M6,Z,13,8.5,11,26,256,4,3\\r\\n2019,BMW,440i xDrive Gran Coupe,Compact,3,6,AS8,Z,11.4,7.6,9.7,29,228,5,3\\r\\n2019,BMW,530i xDrive,Mid-size,2,4,AS8,Z,10.2,7.2,8.8,32,207,6,7\\r\\n2019,BMW,540i xDrive,Mid-size,3,6,AS8,Z,11.2,8.1,9.8,29,231,5,5\\r\\n2019,BMW,640i xDrive Gran Coupe,Compact,3,6,AS8,Z,12.3,8.4,10.5,27,248,4,3\\r\\n2019,BMW,640i xDrive Gran Turismo,Full-size,3,6,AS8,Z,11.9,8.4,10.3,27,241,5,5\\r\\n2019,BMW,650i xDrive Gran Coupe,Compact,4.4,8,AS8,Z,14,9.6,12,24,282,4,3\\r\\n2019,BMW,750i xDrive,Full-size,4.4,8,AS8,Z,13.3,9.2,11.5,25,269,4,3\\r\\n2019,BMW,750Li xDrive,Full-size,4.4,8,AS8,Z,14,9.6,12,24,282,4,3\\r\\n2019,BMW,Alpina B6 xDrive Gran Coupe,Compact,4.4,8,AS8,Z,14,9.6,12,24,282,4,3\\r\\n2019,BMW,Alpina B7 xDrive,Full-size,4.4,8,AS8,Z,14,9.6,12,24,282,4,3\\r\\n2019,BMW,M2 Competition,Subcompact,3,6,AM7,Z,14.3,10.4,12.6,22,294,3,3\\r\\n2019,BMW,M2 Competition,Subcompact,3,6,M6,Z,13.4,9.6,11.7,24,273,4,3\\r\\n2019,BMW,M240i Cabriolet,Subcompact,3,6,AS8,Z,11.2,7.8,9.7,29,227,5,3\\r\\n2019,BMW,M240i Cabriolet,Subcompact,3,6,M6,Z,12.8,8.8,11,26,256,4,3\\r\\n2019,BMW,M240i Coupe,Subcompact,3,6,AS8,Z,11.2,7.8,9.7,29,227,5,3\\r\\n2019,BMW,M240i Coupe,Subcompact,3,6,M6,Z,12.8,8.8,11,26,256,4,3\\r\\n2019,BMW,M240i Coupe M Performance,Subcompact,3,6,AS8,Z,11.2,7.8,9.7,29,227,5,3\\r\\n2019,BMW,M240i Coupe M Performance,Subcompact,3,6,M6,Z,12.8,8.8,11,26,256,4,3\\r\\n2019,BMW,M240i xDrive Cabriolet,Subcompact,3,6,AS8,Z,11.3,8,9.8,29,229,5,3\\r\\n2019,BMW,M240i xDrive Coupe,Subcompact,3,6,AS8,Z,11.3,8,9.8,29,229,5,3\\r\\n2019,BMW,M240i xDrive Coupe M Performance,Subcompact,3,6,AS8,Z,11.3,8,9.8,29,229,5,3\\r\\n2019,BMW,M4 Cabriolet,Subcompact,3,6,AM7,Z,14.5,10.5,12.7,22,299,3,3\\r\\n2019,BMW,M4 Cabriolet,Subcompact,3,6,M6,Z,13.8,9.4,11.9,24,280,4,3\\r\\n2019,BMW,M4 Cabriolet Competition,Subcompact,3,6,AM7,Z,14.5,10.5,12.7,22,299,3,3\\r\\n2019,BMW,M4 Cabriolet Competition,Subcompact,3,6,M6,Z,13.8,9.4,11.9,24,280,4,3\\r\\n2019,BMW,M4 Coupe,Compact,3,6,AM7,Z,14.3,10.4,12.6,22,294,3,3\\r\\n2019,BMW,M4 Coupe,Compact,3,6,M6,Z,13.4,9.6,11.7,24,273,4,3\\r\\n2019,BMW,M4 Coupe Competition,Compact,3,6,AM7,Z,14.3,10.4,12.6,22,294,3,3\\r\\n2019,BMW,M4 Coupe Competition,Compact,3,6,M6,Z,13.4,9.6,11.7,24,273,4,3\\r\\n2019,BMW,M4 CS,Compact,3,6,AM7,Z,14.3,10.4,12.6,22,294,3,3\\r\\n2019,BMW,M5,Mid-size,4.4,8,AS8,Z,16,11.2,13.9,20,324,3,3\\r\\n2019,BMW,M5 Competition,Mid-size,4.4,8,AS8,Z,16,11.2,13.9,20,324,3,3\\r\\n2019,BMW,M550i xDrive,Mid-size,4.4,8,AS8,Z,13.3,9.2,11.5,25,269,4,3\\r\\n2019,BMW,M6 Gran Coupe,Compact,4.4,8,AM7,Z,17.3,11.6,14.7,19,344,2,1\\r\\n2019,BMW,M760Li xDrive,Full-size,6.6,12,AS8,Z,17.7,11.9,15.1,19,355,2,3\\r\\n2019,BMW,M850i xDrive Cabriolet,Subcompact,4.4,8,AS8,Z,13.5,9.2,11.6,24,270,4,3\\r\\n2019,BMW,M850i xDrive Coupe,Subcompact,4.4,8,AS8,Z,13.3,9.2,11.5,25,269,4,3\\r\\n2019,BMW,X1 xDrive28i,SUV: Small,2,4,AS8,Z,10.7,7.5,9.3,30,217,5,7\\r\\n2019,BMW,X2 xDrive28i,SUV: Small,2,4,AS8,Z,11,7.7,9.5,30,222,5,7\\r\\n2019,BMW,X3 xDrive30i,SUV: Small,2,4,AS8,Z,10.8,8,9.6,29,223,5,7\\r\\n2019,BMW,X3 M40i,SUV: Small,3,6,AS8,Z,11.9,8.7,10.4,27,245,5,5\\r\\n2019,BMW,X4 xDrive30i,SUV: Small,2,4,AS8,Z,10.8,8,9.6,29,223,5,7\\r\\n2019,BMW,X4 M40i,SUV: Small,3,6,AS8,Z,11.9,8.7,10.4,27,245,5,5\\r\\n2019,BMW,X5 xDrive40i,SUV: Standard,3,6,AS8,Z,11.7,9.1,10.5,27,245,5,3\\r\\n2019,BMW,X5 xDrive50i,SUV: Standard,4.4,8,AS8,Z,15.3,11.1,13.4,21,314,3,3\\r\\n2019,BMW,X6 xDrive35i,SUV: Standard,3,6,AS8,Z,13,9.9,11.6,24,272,4,3\\r\\n2019,BMW,X6 xDrive50i,SUV: Standard,4.4,8,AS8,Z,14.3,10.6,12.6,22,294,3,3\\r\\n2019,BMW,X6 M,SUV: Standard,4.4,8,AS8,Z,16.6,12.1,14.6,19,341,2,3\\r\\n2019,BMW,X7 xDrive40i,SUV: Standard,3,6,AS8,Z,12,9.4,10.8,26,254,4,3\\r\\n2019,BMW,X7 xDrive50i,SUV: Standard,4.4,8,AS8,Z,14.3,10.6,12.6,22,294,3,3\\r\\n2019,Bugatti,Chiron,Two-seater,8,16,AM7,Z,26.8,16.6,22.2,13,522,1,1\\r\\n2019,Buick,Enclave,SUV: Standard,3.6,6,A9,X,13,9.1,11.2,25,263,4,6\\r\\n2019,Buick,Enclave AWD,SUV: Standard,3.6,6,A9,X,13.8,9.5,11.9,24,278,4,6\\r\\n2019,Buick,Encore,SUV: Small,1.4,4,AS6,X,9.4,7.8,8.7,32,204,6,5\\r\\n2019,Buick,Encore (SIDI with Stop/Start),SUV: Small,1.4,4,AS6,X,8.9,7.5,8.3,34,194,6,3\\r\\n2019,Buick,Encore AWD,SUV: Small,1.4,4,AS6,X,9.9,8.1,9.1,31,214,5,5\\r\\n2019,Buick,Encore AWD (SIDI with Stop/Start),SUV: Small,1.4,4,AS6,X,9.4,7.9,8.8,32,205,6,3\\r\\n2019,Buick,Envision AWD,SUV: Small,2,4,A9,Z,11.7,9.4,10.7,26,249,4,5\\r\\n2019,Buick,Envision AWD,SUV: Small,2.5,4,A6,X,11.1,8.6,10,28,234,5,5\\r\\n2019,Buick,LaCrosse,Mid-size,3.6,6,AS9,X,11.7,7.8,9.9,29,233,5,5\\r\\n2019,Buick,LaCrosse eAssist,Mid-size,2.5,4,AS6,X,9.4,6.8,8.2,34,192,6,5\\r\\n2019,Buick,LaCrosse AWD,Mid-size,3.6,6,AS9,X,11.7,8.2,10.1,28,238,5,5\\r\\n2019,Buick,Regal,Mid-size,2,4,AS9,Z,10.6,7.4,9.1,31,214,5,5\\r\\n2019,Buick,Regal AWD,Mid-size,2,4,AS8,Z,11,8,9.6,29,227,5,5\\r\\n2019,Buick,Regal AWD,Mid-size,3.6,6,AS9,X,12.4,8.7,10.7,26,251,4,5\\r\\n2019,Cadillac,CT6 AWD,Full-size,3,6,AS10,Z,13.1,9.1,11.3,25,267,4,3\\r\\n2019,Cadillac,CT6 AWD,Full-size,3.6,6,AS10,X,13,8.8,11.1,25,261,4,5\\r\\n2019,Cadillac,CT6 AWD,Full-size,4.2,8,AS10,Z,17.3,9.5,13.8,20,324,3,3\\r\\n2019,Cadillac,CTS,Mid-size,2,4,AS8,Z,11,7.8,9.5,30,222,5,5\\r\\n2019,Cadillac,CTS,Mid-size,3.6,6,AS8,X,12.3,8.2,10.5,27,246,4,5\\r\\n2019,Cadillac,CTS AWD,Mid-size,2,4,AS8,Z,11.4,8.1,9.9,29,232,5,5\\r\\n2019,Cadillac,CTS AWD,Mid-size,3.6,6,AS8,X,13.3,9.2,11.5,25,269,4,5\\r\\n2019,Cadillac,CTS Vsport,Mid-size,3.6,6,AS8,Z,15,9.9,12.7,22,298,3,3\\r\\n2019,Cadillac,CTS-V,Mid-size,6.2,8,AS8,Z,17.1,11,14.3,20,337,2,1\\r\\n2019,Cadillac,Escalade 4WD,SUV: Standard,6.2,8,A10,Z,16.6,10.9,14,20,328,3,3\\r\\n2019,Cadillac,XT4,SUV: Small,2,4,AS9,Z,9.8,7.8,8.9,32,209,5,6\\r\\n2019,Cadillac,XT4 AWD,SUV: Small,2,4,AS9,Z,10.9,8.2,9.7,29,227,5,6\\r\\n2019,Cadillac,XT5,SUV: Small,3.6,6,AS8,X,12.1,8.9,10.6,27,250,4,6\\r\\n2019,Cadillac,XT5 AWD,SUV: Small,3.6,6,AS8,X,12.8,9.3,11.2,25,263,4,6\\r\\n2019,Cadillac,XTS,Full-size,3.6,6,AS6,X,12.9,8.7,11,26,259,4,5\\r\\n2019,Cadillac,XTS AWD,Full-size,3.6,6,AS6,X,13.7,9,11.6,24,272,4,5\\r\\n2019,Cadillac,XTS Vsport AWD,Full-size,3.6,6,AS6,Z,15,10.1,12.8,22,302,3,3\\r\\n2019,Chevrolet,Blazer,SUV: Small,2.5,4,A9,X,10.8,8.8,9.9,29,232,5,5\\r\\n2019,Chevrolet,Blazer,SUV: Small,3.6,6,A9,X,12,9,10.6,27,250,4,6\\r\\n2019,Chevrolet,Blazer AWD,SUV: Small,3.6,6,A9,X,12.7,9.5,11.3,25,265,4,6\\r\\n2019,Chevrolet,Camaro,Subcompact,2,4,AS8,Z,10.8,7.7,9.4,30,220,5,5\\r\\n2019,Chevrolet,Camaro,Subcompact,2,4,M6,Z,11.9,7.9,10.1,28,235,5,5\\r\\n2019,Chevrolet,Camaro,Subcompact,3.6,6,AS8,X,12.3,8.2,10.4,27,246,5,5\\r\\n2019,Chevrolet,Camaro,Subcompact,3.6,6,M6,X,14.3,8.8,11.8,24,277,4,5\\r\\n2019,Chevrolet,Camaro SS,Subcompact,6.2,8,AS10,Z,14.5,8.8,12,24,279,4,1\\r\\n2019,Chevrolet,Camaro SS,Subcompact,6.2,8,M6,Z,14.9,9.9,12.6,22,297,3,1\\r\\n2019,Chevrolet,Camaro ZL1,Subcompact,6.2,8,AS10,Z,18.3,11.2,15.1,19,355,2,1\\r\\n2019,Chevrolet,Camaro ZL1,Subcompact,6.2,8,M6,Z,17.2,12,14.9,19,349,2,1\\r\\n2019,Chevrolet,Colorado,Pickup truck: Small,2.5,4,A6,X,12.1,9.2,10.8,26,253,4,5\\r\\n2019,Chevrolet,Colorado,Pickup truck: Small,2.5,4,M6,X,11.9,9.2,10.7,26,251,4,5\\r\\n2019,Chevrolet,Colorado,Pickup truck: Small,2.8,4,A6,D,11.8,7.9,10.1,28,270,4,3\\r\\n2019,Chevrolet,Colorado,Pickup truck: Small,3.6,6,A8,X,13.4,9.6,11.7,24,274,4,5\\r\\n2019,Chevrolet,Colorado 4WD,Pickup truck: Small,2.5,4,A6,X,12.7,9.8,11.4,25,267,4,5\\r\\n2019,Chevrolet,Colorado 4WD,Pickup truck: Small,2.8,4,A6,D,12.2,8.4,10.5,27,283,4,3\\r\\n2019,Chevrolet,Colorado 4WD,Pickup truck: Small,3.6,6,A8,X,14,9.9,12.2,23,286,3,5\\r\\n2019,Chevrolet,Colorado ZR2 4WD,Pickup truck: Small,2.8,4,A6,D,13.3,10.6,12.1,23,326,3,3\\r\\n2019,Chevrolet,Colorado ZR2 4WD,Pickup truck: Small,3.6,6,A8,X,15,13,14.1,20,331,3,5\\r\\n2019,Chevrolet,Corvette,Two-seater,6.2,8,AS8,Z,15.6,9.2,12.7,22,299,3,1\\r\\n2019,Chevrolet,Corvette,Two-seater,6.2,8,M7,Z,14.6,9.3,12.2,23,286,3,1\\r\\n2019,Chevrolet,Corvette Z06,Two-seater,6.2,8,AS8,Z,17.2,10.1,14,20,331,3,1\\r\\n2019,Chevrolet,Corvette Z06,Two-seater,6.2,8,M7,Z,15.9,10.6,13.5,21,318,3,1\\r\\n2019,Chevrolet,Corvette ZR1,Two-seater,6.2,8,AS8,Z,19.5,12,16.1,18,381,2,1\\r\\n2019,Chevrolet,Corvette ZR1,Two-seater,6.2,8,M7,Z,18.2,12.5,15.6,18,368,2,1\\r\\n2019,Chevrolet,Cruze,Compact,1.4,4,AS6,X,8.3,6.2,7.3,39,172,7,6\\r\\n2019,Chevrolet,Cruze Premier,Compact,1.4,4,AS6,X,8.3,6.2,7.3,39,172,7,6\\r\\n2019,Chevrolet,Cruze Diesel,Compact,1.6,4,A9,D,7.6,4.9,6.4,44,172,7,3\\r\\n2019,Chevrolet,Cruze Hatchback,Mid-size,1.4,4,AS6,X,8.3,6.2,7.3,39,172,7,6\\r\\n2019,Chevrolet,Cruze Hatchback Premier,Mid-size,1.4,4,AS6,X,8.5,6.4,7.5,38,175,7,6\\r\\n2019,Chevrolet,Cruze Hatchback Diesel,Mid-size,1.6,4,A9,D,7.8,5.2,6.6,43,178,7,3\\r\\n2019,Chevrolet,Equinox,SUV: Small,1.5,4,A6,X,9.2,7.3,8.3,34,196,6,5\\r\\n2019,Chevrolet,Equinox,SUV: Small,1.6,4,A6,D,8.5,6,7.4,38,199,6,3\\r\\n2019,Chevrolet,Equinox AWD,SUV: Small,1.5,4,A6,X,9.3,7.8,8.6,33,207,6,5\\r\\n2019,Chevrolet,Equinox AWD,SUV: Small,1.6,4,A6,D,8.5,6.1,7.4,38,199,6,3\\r\\n2019,Chevrolet,Equinox AWD,SUV: Small,2,4,A9,Z,10.9,8.3,9.7,29,228,5,5\\r\\n2019,Chevrolet,Impala,Full-size,2.5,4,AS6,X,10.8,8,9.6,29,225,5,3\\r\\n2019,Chevrolet,Impala,Full-size,3.6,6,AS6,X,12.7,8.5,10.8,26,254,4,5\\r\\n2019,Chevrolet,Impala,Full-size,3.6,6,AS6,E,17.2,11.6,14.6,19,245,5,5\\r\\n2019,Chevrolet,Malibu,Mid-size,1.5,4,AV,X,8.2,6.6,7.5,38,174,7,6\\r\\n2019,Chevrolet,Malibu,Mid-size,2,4,A9,Z,10.5,7.4,9.1,31,214,5,5\\r\\n2019,Chevrolet,Malibu Hybrid,Mid-size,1.8,4,AV,X,4.8,5.5,5.1,55,121,10,5\\r\\n2019,Chevrolet,Silverado,Pickup truck: Standard,2.7,4,A8,X,11.9,10.3,11.1,25,261,4,6\\r\\n2019,Chevrolet,Silverado,Pickup truck: Standard,4.3,6,A6,X,15.1,11.5,13.5,21,316,3,6\\r\\n2019,Chevrolet,Silverado,Pickup truck: Standard,5.3,8,A6,X,15.9,11.4,13.9,20,326,3,5\\r\\n2019,Chevrolet,Silverado FFV,Pickup truck: Standard,5.3,8,A6,X,15.7,11.9,14,20,329,3,3\\r\\n2019,Chevrolet,Silverado FFV,Pickup truck: Standard,5.3,8,A6,E,21.1,15,18.4,15,306,3,3\\r\\n2019,Chevrolet,Silverado,Pickup truck: Standard,5.3,8,A8,X,14.1,10.2,12.4,23,290,3,5\\r\\n2019,Chevrolet,Silverado 4WD,Pickup truck: Standard,2.7,4,A8,X,12.5,10.8,11.7,24,275,4,6\\r\\n2019,Chevrolet,Silverado 4WD,Pickup truck: Standard,4.3,6,A6,X,15.8,11.9,14,20,329,3,6\\r\\n2019,Chevrolet,Silverado 4WD Trail Boss,Pickup truck: Standard,4.3,6,A6,X,16.3,12.9,14.8,19,347,2,6\\r\\n2019,Chevrolet,Silverado 4WD,Pickup truck: Standard,5.3,8,A6,X,15.9,11.7,14,20,329,3,5\\r\\n2019,Chevrolet,Silverado 4WD FFV,Pickup truck: Standard,5.3,8,A6,X,16.1,12.5,14.4,20,339,2,3\\r\\n2019,Chevrolet,Silverado 4WD FFV,Pickup truck: Standard,5.3,8,A6,E,22,16.1,19.3,15,322,3,3\\r\\n2019,Chevrolet,Silverado 4WD Trail Boss,Pickup truck: Standard,5.3,8,A6,X,16.5,13,14.9,19,350,2,5\\r\\n2019,Chevrolet,Silverado 4WD,Pickup truck: Standard,5.3,8,A8,X,14.9,10.8,13.1,22,306,3,5\\r\\n2019,Chevrolet,Silverado 4WD Trail Boss,Pickup truck: Standard,5.3,8,A8,X,15.3,11.8,13.7,21,320,3,5\\r\\n2019,Chevrolet,Silverado 4WD,Pickup truck: Standard,6.2,8,A10,Z,15,12,13.7,21,321,3,3\\r\\n2019,Chevrolet,Silverado LD,Pickup truck: Standard,5.3,8,A6,X,15.6,10.9,13.5,21,317,3,3\\r\\n2019,Chevrolet,Silverado LD 4WD,Pickup truck: Standard,5.3,8,A6,X,15.8,11.4,13.8,20,325,3,3\\r\\n2019,Chevrolet,Spark,Subcompact,1.4,4,AV,X,7.9,6.2,7.1,40,167,8,5\\r\\n2019,Chevrolet,Spark,Subcompact,1.4,4,M5,X,8,6.2,7.2,39,170,8,5\\r\\n2019,Chevrolet,Suburban,SUV: Standard,5.3,8,A6,X,15.7,10.5,13.4,21,314,3,3\\r\\n2019,Chevrolet,Suburban FFV,SUV: Standard,5.3,8,A6,X,15.7,10.5,13.4,21,314,3,3\\r\\n2019,Chevrolet,Suburban FFV,SUV: Standard,5.3,8,A6,E,21.2,13.9,17.9,16,298,3,3\\r\\n2019,Chevrolet,Suburban 4WD,SUV: Standard,5.3,8,A6,X,16.8,11.3,14.3,20,336,2,3\\r\\n2019,Chevrolet,Suburban 4WD FFV,SUV: Standard,5.3,8,A6,X,16.8,11.3,14.3,20,336,2,3\\r\\n2019,Chevrolet,Suburban 4WD FFV,SUV: Standard,5.3,8,A6,E,22.2,15.2,19,15,317,3,3\\r\\n2019,Chevrolet,Suburban 4WD,SUV: Standard,6.2,8,A10,Z,17.1,11.3,14.5,19,340,2,3\\r\\n2019,Chevrolet,Tahoe,SUV: Standard,5.3,8,A6,X,15.7,10.5,13.4,21,314,3,3\\r\\n2019,Chevrolet,Tahoe FFV,SUV: Standard,5.3,8,A6,X,15.7,10.5,13.4,21,314,3,3\\r\\n2019,Chevrolet,Tahoe FFV,SUV: Standard,5.3,8,A6,E,21.2,13.9,17.9,16,298,3,3\\r\\n2019,Chevrolet,Tahoe 4WD,SUV: Standard,5.3,8,A6,X,15.8,11.1,13.7,21,321,3,3\\r\\n2019,Chevrolet,Tahoe 4WD FFV,SUV: Standard,5.3,8,A6,X,15.8,11.1,13.7,21,321,3,3\\r\\n2019,Chevrolet,Tahoe 4WD FFV,SUV: Standard,5.3,8,A6,E,21.7,14.3,18.4,15,305,3,3\\r\\n2019,Chevrolet,Tahoe 4WD,SUV: Standard,6.2,8,A10,Z,16.4,10.7,13.8,20,325,3,3\\r\\n2019,Chevrolet,Traverse,SUV: Standard,3.6,6,A9,X,13,8.8,11.1,25,261,4,6\\r\\n2019,Chevrolet,Traverse AWD,SUV: Standard,3.6,6,A9,X,13.7,9.5,11.8,24,277,4,6\\r\\n2019,Chevrolet,Trax,SUV: Small,1.4,4,AS6,X,9.1,7.6,8.4,34,196,6,5\\r\\n2019,Chevrolet,Trax,SUV: Small,1.4,4,M6,X,9.4,6.9,8.3,34,194,6,5\\r\\n2019,Chevrolet,Trax 4WD,SUV: Small,1.4,4,AS6,X,9.9,8.1,9.1,31,214,5,5\\r\\n2019,Chrysler,300,Full-size,3.6,6,A8,X,12.4,7.8,10.3,27,242,5,3\\r\\n2019,Chrysler,300 FFV,Full-size,3.6,6,A8,X,12.4,7.8,10.3,27,242,5,3\\r\\n2019,Chrysler,300 FFV,Full-size,3.6,6,A8,E,17.1,10.6,14.2,20,234,5,3\\r\\n2019,Chrysler,300,Full-size,5.7,8,A8,X,14.7,9.4,12.3,23,289,3,3\\r\\n2019,Chrysler,300 AWD,Full-size,3.6,6,A8,X,12.8,8.7,11,26,258,4,3\\r\\n2019,Chrysler,300 AWD FFV,Full-size,3.6,6,A8,X,12.8,8.7,11,26,258,4,3\\r\\n2019,Chrysler,300 AWD FFV,Full-size,3.6,6,A8,E,17.6,12,15,19,248,4,3\\r\\n2019,Chrysler,Pacifica,Minivan,3.6,6,A9,X,12.9,8.4,10.9,26,259,4,7\\r\\n2019,Chrysler,Pacifica (Stop-Start),Minivan,3.6,6,A9,X,12.4,8.4,10.6,27,249,4,7\\r\\n2019,Dodge,Challenger,Mid-size,3.6,6,A8,X,12.4,7.8,10.3,27,242,5,3\\r\\n2019,Dodge,Challenger,Mid-size,5.7,8,M6,Z,15.6,10.1,13.1,22,307,3,1\\r\\n2019,Dodge,Challenger,Mid-size,6.4,8,M6,Z,16.7,10.4,13.9,20,325,3,1\\r\\n2019,Dodge,Challenger (MDS),Mid-size,5.7,8,A8,X,14.7,9.4,12.3,23,289,3,3\\r\\n2019,Dodge,Challenger (MDS),Mid-size,6.4,8,A8,Z,15.8,9.6,13,22,304,3,1\\r\\n2019,Dodge,Challenger GT AWD,Mid-size,3.6,6,A8,X,12.8,8.7,11,26,258,4,3\\r\\n2019,Dodge,Challenger SRT Hellcat,Mid-size,6.2,8,A8,Z,17.6,10.7,14.5,19,339,2,1\\r\\n2019,Dodge,Challenger SRT Hellcat,Mid-size,6.2,8,M6,Z,18.1,11.4,15.1,19,352,2,1\\r\\n2019,Dodge,Challenger SRT Hellcat Redeye,Mid-size,6.2,8,A8,Z,17.6,10.7,14.5,19,339,2,1\\r\\n2019,Dodge,Charger,Full-size,3.6,6,A5,X,13.7,9,11.6,24,271,4,3\\r\\n2019,Dodge,Charger FFV,Full-size,3.6,6,A5,X,13.7,9,11.6,24,271,4,3\\r\\n2019,Dodge,Charger FFV,Full-size,3.6,6,A5,E,18.9,12.7,16.1,18,268,4,3\\r\\n2019,Dodge,Charger,Full-size,3.6,6,A8,X,12.4,7.8,10.3,27,242,5,3\\r\\n2019,Dodge,Charger FFV,Full-size,3.6,6,A8,X,12.4,7.8,10.3,27,242,5,3\\r\\n2019,Dodge,Charger FFV,Full-size,3.6,6,A8,E,17.1,10.6,14.2,20,234,5,3\\r\\n2019,Dodge,Charger (MDS),Full-size,5.7,8,A5,X,15.6,9.7,12.9,22,302,3,3\\r\\n2019,Dodge,Charger (MDS),Full-size,5.7,8,A8,X,14.7,9.4,12.3,23,289,3,3\\r\\n2019,Dodge,Charger (MDS),Full-size,6.4,8,A8,Z,15.8,9.6,13,22,304,3,1\\r\\n2019,Dodge,Charger AWD,Full-size,3.6,6,A8,X,12.8,8.7,11,26,258,4,3\\r\\n2019,Dodge,Charger AWD FFV,Full-size,3.6,6,A8,X,12.8,8.7,11,26,258,4,3\\r\\n2019,Dodge,Charger AWD FFV,Full-size,3.6,6,A8,E,17.6,12,15,19,248,4,3\\r\\n2019,Dodge,Charger AWD (MDS),Full-size,5.7,8,A5,X,16,10.1,13.3,21,312,3,3\\r\\n2019,Dodge,Charger SRT Hellcat,Full-size,6.2,8,A8,Z,17.6,10.7,14.5,19,339,2,1\\r\\n2019,Dodge,Durango AWD,SUV: Standard,3.6,6,A8,X,12.7,9.6,11.3,25,265,4,5\\r\\n2019,Dodge,Durango AWD,SUV: Standard,5.7,8,A8,X,16.7,10.9,14.1,20,331,3,3\\r\\n2019,Dodge,Durango AWD SRT,SUV: Standard,6.4,8,A8,Z,18.3,12.2,15.6,18,363,2,1\\r\\n2019,Dodge,Grand Caravan FFV,Minivan,3.6,6,A6,X,13.7,9.4,11.8,24,276,4,3\\r\\n2019,Dodge,Grand Caravan FFV,Minivan,3.6,6,A6,E,19.4,13.3,16.7,17,274,4,3\\r\\n2019,Dodge,Journey,SUV: Small,2.4,4,A4,X,12.7,9.2,11.1,25,261,4,3\\r\\n2019,Dodge,Journey FFV,SUV: Small,3.6,6,A6,X,14.2,9.5,12.1,23,284,4,3\\r\\n2019,Dodge,Journey FFV,SUV: Small,3.6,6,A6,E,19.1,13.2,16.4,17,274,4,3\\r\\n2019,Dodge,Journey AWD,SUV: Small,3.6,6,A6,X,14.5,10,12.4,23,292,3,3\\r\\n2019,FIAT,124 Spider,Two-seater,1.4,4,A6,X,9.3,6.5,8,35,187,6,3\\r\\n2019,FIAT,124 Spider,Two-seater,1.4,4,M6,X,9,6.7,7.9,36,185,7,3\\r\\n2019,FIAT,500,Minicompact,1.4,4,A6,X,9.7,7.4,8.7,32,203,6,3\\r\\n2019,FIAT,500,Minicompact,1.4,4,M5,X,8.5,7.1,7.9,36,186,7,3\\r\\n2019,FIAT,500L,Station wagon: Small,1.4,4,A6,X,10.7,7.9,9.4,30,221,5,3\\r\\n2019,FIAT,500X AWD,SUV: Small,1.3,4,A9,X,10,7.9,9.1,31,213,5,6\\r\\n2019,Ford,EcoSport,SUV: Small,1,3,AS6,X,8.6,8.1,8.4,34,196,6,5\\r\\n2019,Ford,EcoSport AWD,SUV: Small,2,4,AS6,X,10.2,8,9.3,30,218,5,5\\r\\n2019,Ford,Edge,SUV: Small,2,4,AS8,X,10.9,8,9.6,29,224,5,5\\r\\n2019,Ford,Edge AWD,SUV: Small,2,4,AS8,X,11.4,8.3,10,28,233,5,5\\r\\n2019,Ford,Edge AWD,SUV: Small,2.7,6,AS8,X,12.6,9.2,11,26,259,4,5\\r\\n2019,Ford,Escape,SUV: Small,1.5,4,AS6,X,10.2,7.8,9.1,31,214,5,7\\r\\n2019,Ford,Escape FFV,SUV: Small,2.5,4,AS6,X,11,8,9.6,29,226,5,3\\r\\n2019,Ford,Escape FFV,SUV: Small,2.5,4,AS6,E,15,10.8,13.1,22,218,5,3\\r\\n2019,Ford,Escape AWD,SUV: Small,1.5,4,AS6,X,11.2,8.4,9.9,29,232,5,7\\r\\n2019,Ford,Escape AWD,SUV: Small,2,4,AS6,X,11.5,8.7,10.2,28,239,5,5\\r\\n2019,Ford,Expedition 4X4,SUV: Standard,3.5,6,AS10,X,14.1,10.6,12.5,23,293,3,5\\r\\n2019,Ford,Expedition MAX 4X4,SUV: Standard,3.5,6,AS10,X,14.7,11.2,13.1,22,307,3,5\\r\\n2019,Ford,Explorer AWD,SUV: Standard,2.3,4,AS6,X,13.1,9.2,11.4,25,267,4,3\\r\\n2019,Ford,Explorer AWD,SUV: Standard,3.5,6,AS6,X,15.2,10.9,13.2,21,311,3,3\\r\\n2019,Ford,Explorer FFV AWD,SUV: Standard,3.5,6,AS6,X,14.5,10.6,12.7,22,299,3,3\\r\\n2019,Ford,Explorer FFV AWD,SUV: Standard,3.5,6,AS6,E,19.8,14.3,17.3,16,288,3,3\\r\\n2019,Ford,F-150,Pickup truck: Standard,2.7,6,AS10,X,12,9,10.6,27,249,4,5\\r\\n2019,Ford,F-150 (LT Tire Pkg),Pickup truck: Standard,2.7,6,AS10,X,12.4,9.4,11.1,25,260,4,5\\r\\n2019,Ford,F-150 (Payload Pkg),Pickup truck: Standard,2.7,6,AS10,X,12.4,9.4,11.1,25,260,4,5\\r\\n2019,Ford,F-150,Pickup truck: Standard,3,6,AS10,D,10.8,8,9.5,30,256,4,1\\r\\n2019,Ford,F-150 (LT Tire Pkg),Pickup truck: Standard,3,6,AS10,D,10.8,8.4,9.7,29,260,4,1\\r\\n2019,Ford,F-150 FFV,Pickup truck: Standard,3.3,6,AS6,X,12.2,9.3,10.9,26,256,4,5\\r\\n2019,Ford,F-150 FFV,Pickup truck: Standard,3.3,6,AS6,E,16.7,12.6,14.9,19,247,4,5\\r\\n2019,Ford,F-150 FFV (LT Tire Pkg),Pickup truck: Standard,3.3,6,AS6,X,12.4,9.8,11.2,25,263,4,5\\r\\n2019,Ford,F-150 FFV (LT Tire Pkg),Pickup truck: Standard,3.3,6,AS6,E,16.7,12.6,14.9,19,247,4,5\\r\\n2019,Ford,F-150,Pickup truck: Standard,3.5,6,AS10,X,13.5,10.1,12,24,281,4,5\\r\\n2019,Ford,F-150 (LT Tire Pkg),Pickup truck: Standard,3.5,6,AS10,X,13.8,10.7,12.4,23,291,3,5\\r\\n2019,Ford,F-150 (Payload Pkg),Pickup truck: Standard,3.5,6,AS10,X,13.9,11.2,12.7,22,298,3,5\\r\\n2019,Ford,F-150 FFV,Pickup truck: Standard,5,8,AS10,X,13.9,10.2,12.2,23,287,3,3\\r\\n2019,Ford,F-150 FFV,Pickup truck: Standard,5,8,AS10,E,20.3,14,17.4,16,290,3,3\\r\\n2019,Ford,F-150 FFV (LT Tire Pkg),Pickup truck: Standard,5,8,AS10,X,14.7,11.2,13.1,22,308,3,3\\r\\n2019,Ford,F-150 FFV (LT Tire Pkg),Pickup truck: Standard,5,8,AS10,E,20.3,14,17.5,16,290,3,3\\r\\n2019,Ford,F-150 FFV (Payload Pkg),Pickup truck: Standard,5,8,AS10,X,15.6,11.8,13.9,20,326,3,3\\r\\n2019,Ford,F-150 FFV (Payload Pkg),Pickup truck: Standard,5,8,AS10,E,20.4,14,17.5,16,291,3,3\\r\\n2019,Ford,F-150 4X4,Pickup truck: Standard,2.7,6,AS10,X,12.7,9.8,11.4,25,268,4,5\\r\\n2019,Ford,F-150 4X4 (LT Tire Pkg),Pickup truck: Standard,2.7,6,AS10,X,13.1,10.2,11.8,24,277,4,5\\r\\n2019,Ford,F-150 4X4 (Payload Pkg),Pickup truck: Standard,2.7,6,AS10,X,13.1,10.2,11.8,24,277,4,5\\r\\n2019,Ford,F-150 4X4,Pickup truck: Standard,3,6,AS10,D,11.8,9.3,10.7,26,287,3,1\\r\\n2019,Ford,F-150 4X4 (LT Tire Pkg),Pickup truck: Standard,3,6,AS10,D,11.8,9.3,10.7,26,287,3,1\\r\\n2019,Ford,F-150 4X4 XL/XLT,Pickup truck: Standard,3,6,AS10,D,11.2,8.3,9.9,29,266,4,1\\r\\n2019,Ford,F-150 FFV 4X4,Pickup truck: Standard,3.3,6,AS6,X,12.8,10.2,11.6,24,273,4,5\\r\\n2019,Ford,F-150 FFV 4X4,Pickup truck: Standard,3.3,6,AS6,E,17.5,13.8,15.8,18,263,4,5\\r\\n2019,Ford,F-150 FFV 4X4 (LT Tire Pkg),Pickup truck: Standard,3.3,6,AS6,X,13.8,10.7,12.4,23,291,3,5\\r\\n2019,Ford,F-150 FFV 4X4 (LT Tire Pkg),Pickup truck: Standard,3.3,6,AS6,E,17.5,13.7,15.8,18,263,4,5\\r\\n2019,Ford,F-150 4X4,Pickup truck: Standard,3.5,6,AS10,X,14.3,10.5,12.5,23,295,3,5\\r\\n2019,Ford,F-150 4X4 (LT Tire Pkg),Pickup truck: Standard,3.5,6,AS10,X,14.7,10.7,12.9,22,303,3,5\\r\\n2019,Ford,F-150 4X4 (Payload Pkg),Pickup truck: Standard,3.5,6,AS10,X,14.7,11.2,13.1,22,308,3,5\\r\\n2019,Ford,F-150 4X4 Limited,Pickup truck: Standard,3.5,6,AS10,X,13.8,11.2,12.6,22,296,3,5\\r\\n2019,Ford,F-150 FFV 4X4,Pickup truck: Standard,5,8,AS10,X,15.1,11,13.3,21,312,3,3\\r\\n2019,Ford,F-150 FFV 4X4,Pickup truck: Standard,5,8,AS10,E,20,15.6,18,16,300,3,3\\r\\n2019,Ford,F-150 FFV 4X4 (LT Tire Pkg),Pickup truck: Standard,5,8,AS10,X,15.7,11.8,13.9,20,326,3,3\\r\\n2019,Ford,F-150 FFV 4X4 (LT Tire Pkg),Pickup truck: Standard,5,8,AS10,E,20,15.6,18,16,300,3,3\\r\\n2019,Ford,F-150 FFV 4X4 (Payload Pkg),Pickup truck: Standard,5,8,AS10,X,16.8,12.4,14.8,19,347,2,3\\r\\n2019,Ford,F-150 FFV 4X4 (Payload Pkg),Pickup truck: Standard,5,8,AS10,E,21.3,17.2,19.5,14,323,3,3\\r\\n2019,Ford,F-150 Raptor 4X4,Pickup truck: Standard,3.5,6,AS10,X,15.3,13.1,14.3,20,336,2,5\\r\\n2019,Ford,Flex,SUV: Standard,3.5,6,AS6,X,14.7,10.2,12.7,22,298,3,3\\r\\n2019,Ford,Flex AWD,SUV: Standard,3.5,6,AS6,X,14.7,10.7,12.9,22,303,3,3\\r\\n2019,Ford,Flex AWD GTDI,SUV: Standard,3.5,6,AS6,X,15.7,11.2,13.7,21,322,3,3\\r\\n2019,Ford,Fiesta,Subcompact,1.6,4,AM6,X,8.6,6.4,7.6,37,178,7,3\\r\\n2019,Ford,Fiesta,Subcompact,1.6,4,M5,X,8.8,6.8,7.9,36,184,7,3\\r\\n2019,Ford,Fiesta ST,Subcompact,1.6,4,M6,X,9.2,7.4,8.4,34,196,6,3\\r\\n2019,Ford,Fusion,Mid-size,1.5,4,AS6,X,10,7,8.7,32,204,6,7\\r\\n2019,Ford,Fusion Hybrid,Mid-size,2,4,AV,X,5.5,5.6,5.6,50,131,9,7\\r\\n2019,Ford,GT,Two-seater,3.5,6,AM7,Z,20.4,13.1,17.1,17,402,1,3\\r\\n2019,Ford,Mustang,Subcompact,2.3,4,AS10,X,11.2,7.3,9.4,30,221,5,5\\r\\n2019,Ford,Mustang (Performance Pkg),Subcompact,2.3,4,AS10,X,11.8,8.4,10.3,27,242,5,5\\r\\n2019,Ford,Mustang,Subcompact,2.3,4,M6,X,11.2,7.9,9.7,29,227,5,5\\r\\n2019,Ford,Mustang (Performance Pkg),Subcompact,2.3,4,M6,X,11.8,8.7,10.4,27,244,5,5\\r\\n2019,Ford,Mustang,Subcompact,5,8,AS10,X,15,9.1,12.3,23,289,3,3\\r\\n2019,Ford,Mustang,Subcompact,5,8,M6,X,16.1,9.9,13.3,21,311,3,3\\r\\n2019,Ford,Mustang Bullitt,Subcompact,5,8,M6,X,16.1,9.9,13.3,21,311,3,3\\r\\n2019,Ford,Mustang Convertible,Subcompact,2.3,4,AS10,X,11.9,8.4,10.4,27,243,5,5\\r\\n2019,Ford,Mustang Convertible,Subcompact,2.3,4,M6,X,11.8,8.4,10.3,27,241,5,5\\r\\n2019,Ford,Mustang Convertible,Subcompact,5,8,AS10,X,15.4,9.7,12.9,22,302,3,3\\r\\n2019,Ford,Ranger 4WD,Pickup truck: Standard,2.3,4,AS10,X,11.8,9.8,10.9,26,256,4,3\\r\\n2019,Ford,Shelby GT350 Mustang,Subcompact,5.2,8,M6,Z,17.2,11.3,14.6,19,341,2,3\\r\\n2019,Ford,T-150 Wagon,Van: Passenger,3.5,6,AS6,X,16.2,12.8,14.7,19,346,2,1\\r\\n2019,Ford,T-150 Wagon,Van: Passenger,3.7,6,AS6,X,16.9,13.1,15.2,19,355,2,1\\r\\n2019,Ford,Taurus FFV,Full-size,3.5,6,AS6,X,13.5,9,11.5,25,270,4,3\\r\\n2019,Ford,Taurus FFV,Full-size,3.5,6,AS6,E,17.8,12.1,15.2,19,254,4,3\\r\\n2019,Ford,Taurus AWD,Full-size,3.5,6,AS6,X,14.6,10,12.5,23,294,3,3\\r\\n2019,Ford,Taurus FFV AWD,Full-size,3.5,6,AS6,X,14,9.9,12.4,23,291,3,3\\r\\n2019,Ford,Taurus FFV AWD,Full-size,3.5,6,AS6,E,18.5,13,16,18,267,4,3\\r\\n2019,Ford,Transit Connect Van,Special purpose vehicle,2,4,AS8,X,9.8,8.8,9.3,30,219,5,6\\r\\n2019,Ford,Transit Connect Van FFV,Special purpose vehicle,2,4,AS8,X,9.8,8.8,9.3,30,219,5,5\\r\\n2019,Ford,Transit Connect Van FFV,Special purpose vehicle,2,4,AS8,E,13.3,11.8,12.6,22,209,5,5\\r\\n2019,Ford,Transit Connect Van,Special purpose vehicle,2.5,4,AS6,X,12,8.8,10.6,27,247,4,5\\r\\n2019,Ford,Transit Connect Wagon LWB,Special purpose vehicle,2,4,AS8,X,9.9,8.2,9.2,31,214,5,6\\r\\n2019,Ford,Transit Connect Wagon LWB FFV,Special purpose vehicle,2,4,AS8,X,9.9,8.2,9.2,31,214,5,5\\r\\n2019,Ford,Transit Connect Wagon LWB FFV,Special purpose vehicle,2,4,AS8,E,13.7,11.1,12.5,23,208,6,5\\r\\n2019,Ford,Transit Connect Wagon LWB,Special purpose vehicle,2.5,4,AS6,X,12.1,9,10.7,26,251,4,5\\r\\n2019,Genesis,G70,Compact,2,4,M6,Z,12.8,8.5,10.9,26,255,4,3\\r\\n2019,Genesis,G70 AWD,Compact,2,4,AS8,Z,11.5,8.7,10.3,27,241,5,3\\r\\n2019,Genesis,G70 AWD,Compact,3.3,6,AS8,Z,13.3,9.5,11.6,24,274,4,3\\r\\n2019,Genesis,G80 AWD,Full-size,3.3,6,AS8,Z,13.8,9.7,11.9,24,282,4,3\\r\\n2019,Genesis,G80 AWD,Full-size,3.8,6,AS8,X,13.4,9.6,11.7,24,276,4,5\\r\\n2019,Genesis,G80 AWD,Full-size,5,8,AS8,Z,15.6,10.4,13.2,21,312,3,5\\r\\n2019,Genesis,G90 AWD,Full-size,3.3,6,AS8,Z,13.7,9.7,11.9,24,279,4,3\\r\\n2019,Genesis,G90 AWD,Full-size,5,8,AS8,Z,15.2,10.2,13,22,306,3,5\\r\\n2019,GMC,Acadia,SUV: Standard,2.5,4,A6,X,11.1,9.2,10.2,28,237,5,5\\r\\n2019,GMC,Acadia,SUV: Standard,3.6,6,A6,X,13.1,9.4,11.4,25,268,4,6\\r\\n2019,GMC,Acadia AWD,SUV: Standard,2.5,4,A6,X,11.3,9.4,10.5,27,248,4,5\\r\\n2019,GMC,Acadia AWD,SUV: Standard,3.6,6,A6,X,13.5,9.5,11.7,24,275,4,6\\r\\n2019,GMC,Canyon,Pickup truck: Small,2.5,4,A6,X,12.1,9.2,10.8,26,253,4,5\\r\\n2019,GMC,Canyon,Pickup truck: Small,2.5,4,M6,X,11.9,9.2,10.7,26,251,4,5\\r\\n2019,GMC,Canyon,Pickup truck: Small,2.8,4,A6,D,11.8,7.9,10.1,28,270,4,3\\r\\n2019,GMC,Canyon,Pickup truck: Small,3.6,6,A8,X,13.4,9.6,11.7,24,274,4,5\\r\\n2019,GMC,Canyon 4WD,Pickup truck: Small,2.5,4,A6,X,12.7,9.8,11.4,25,267,4,5\\r\\n2019,GMC,Canyon 4WD,Pickup truck: Small,2.8,4,A6,D,12.2,8.4,10.5,27,283,4,3\\r\\n2019,GMC,Canyon 4WD,Pickup truck: Small,3.6,6,A8,X,14,9.9,12.2,23,286,3,5\\r\\n2019,GMC,Sierra,Pickup truck: Standard,2.7,4,A8,X,11.9,10.3,11.1,25,261,4,6\\r\\n2019,GMC,Sierra,Pickup truck: Standard,4.3,6,A6,X,15.1,11.5,13.5,21,317,3,6\\r\\n2019,GMC,Sierra,Pickup truck: Standard,5.3,8,A6,X,15.9,11.4,13.9,20,326,3,5\\r\\n2019,GMC,Sierra FFV,Pickup truck: Standard,5.3,8,A6,X,15.7,11.9,14,20,329,3,3\\r\\n2019,GMC,Sierra FFV,Pickup truck: Standard,5.3,8,A6,E,21.1,15,18.4,15,306,3,3\\r\\n2019,GMC,Sierra,Pickup truck: Standard,5.3,8,A8,X,14.3,10.4,12.5,23,294,3,5\\r\\n2019,GMC,Sierra 4WD,Pickup truck: Standard,2.7,4,A8,X,12.6,10.9,11.8,24,277,4,6\\r\\n2019,GMC,Sierra 4WD,Pickup truck: Standard,4.3,6,A6,X,15.8,11.9,14,20,329,3,6\\r\\n2019,GMC,Sierra 4WD,Pickup truck: Standard,5.3,8,A6,X,15.9,11.7,14,20,330,3,5\\r\\n2019,GMC,Sierra 4WD FFV,Pickup truck: Standard,5.3,8,A6,X,16,12.5,14.4,20,339,2,3\\r\\n2019,GMC,Sierra 4WD FFV,Pickup truck: Standard,5.3,8,A6,E,22,16.1,19.4,15,323,3,3\\r\\n2019,GMC,Sierra 4WD,Pickup truck: Standard,5.3,8,A8,X,15.3,11.2,13.5,21,316,3,5\\r\\n2019,GMC,Sierra 4WD AT4,Pickup truck: Standard,5.3,8,A8,X,15.3,11.8,13.7,21,320,3,5\\r\\n2019,GMC,Sierra 4WD,Pickup truck: Standard,6.2,8,A10,Z,15.5,11.9,13.9,20,326,3,3\\r\\n2019,GMC,Sierra 4WD AT4,Pickup truck: Standard,6.2,8,A10,Z,15.7,12.4,14.2,20,332,3,3\\r\\n2019,GMC,Sierra LTD,Pickup truck: Standard,5.3,8,A6,X,15.6,10.9,13.5,21,317,3,3\\r\\n2019,GMC,Sierra LTD 4WD,Pickup truck: Standard,5.3,8,A6,X,15.8,11.4,13.8,20,325,3,3\\r\\n2019,GMC,Terrain,SUV: Small,1.5,4,A9,X,9.2,7.9,8.6,33,201,6,5\\r\\n2019,GMC,Terrain,SUV: Small,1.6,4,A6,D,8.5,6,7.4,38,199,6,3\\r\\n2019,GMC,Terrain AWD,SUV: Small,1.5,4,A9,X,9.6,8.3,9,31,210,5,5\\r\\n2019,GMC,Terrain AWD,SUV: Small,1.6,4,A6,D,8.5,6.1,7.4,38,199,6,3\\r\\n2019,GMC,Terrain AWD,SUV: Small,2,4,A9,Z,11.2,9,10.2,28,239,5,5\\r\\n2019,GMC,Yukon,SUV: Standard,5.3,8,A6,X,15.7,10.5,13.4,21,314,3,3\\r\\n2019,GMC,Yukon FFV,SUV: Standard,5.3,8,A6,X,15.7,10.5,13.4,21,314,3,3\\r\\n2019,GMC,Yukon FFV,SUV: Standard,5.3,8,A6,E,21.2,13.9,17.9,16,298,3,3\\r\\n2019,GMC,Yukon 4WD,SUV: Standard,5.3,8,A6,X,15.8,11.1,13.7,21,321,3,3\\r\\n2019,GMC,Yukon 4WD FFV,SUV: Standard,5.3,8,A6,X,15.8,11.1,13.7,21,321,3,3\\r\\n2019,GMC,Yukon 4WD FFV,SUV: Standard,5.3,8,A6,E,21.7,14.3,18.4,15,305,3,3\\r\\n2019,GMC,Yukon 4WD,SUV: Standard,6.2,8,A10,Z,16.4,10.7,13.8,20,325,3,3\\r\\n2019,GMC,Yukon XL,SUV: Standard,5.3,8,A6,X,15.7,10.5,13.4,21,314,3,3\\r\\n2019,GMC,Yukon XL FFV,SUV: Standard,5.3,8,A6,X,15.7,10.5,13.4,21,314,3,3\\r\\n2019,GMC,Yukon XL FFV,SUV: Standard,5.3,8,A6,E,21.2,13.9,17.9,16,298,3,3\\r\\n2019,GMC,Yukon XL 4WD,SUV: Standard,5.3,8,A6,X,16.8,11.3,14.3,20,336,2,3\\r\\n2019,GMC,Yukon XL 4WD FFV,SUV: Standard,5.3,8,A6,X,16.8,11.3,14.3,20,336,2,3\\r\\n2019,GMC,Yukon XL 4WD FFV,SUV: Standard,5.3,8,A6,E,22.2,15.2,19,15,317,3,3\\r\\n2019,GMC,Yukon XL 4WD,SUV: Standard,6.2,8,A10,Z,17.1,11.3,14.5,19,340,2,3\\r\\n2019,Honda,Accord,Full-size,1.5,4,AV,X,7.9,6.3,7.2,39,168,8,7\\r\\n2019,Honda,Accord,Full-size,1.5,4,AV7,X,8.2,6.8,7.6,37,177,7,7\\r\\n2019,Honda,Accord,Full-size,1.5,4,M6,X,8.9,6.7,7.9,36,185,7,6\\r\\n2019,Honda,Accord,Full-size,2,4,M6,X,10.7,7.3,9.2,31,214,5,6\\r\\n2019,Honda,Accord Sport/Touring,Mid-size,2,4,AS10,X,10.4,7.4,9.1,31,211,5,7\\r\\n2019,Honda,Accord Hybrid,Full-size,2,4,AV,X,5,5,5,56,117,10,7\\r\\n2019,Honda,Civic Coupe,Compact,1.5,4,AV7,X,7.8,6.4,7.2,39,167,8,3\\r\\n2019,Honda,Civic Coupe,Compact,2,4,AV,X,7.8,6.1,7.1,40,164,8,3\\r\\n2019,Honda,Civic Coupe,Compact,2,4,AV7,X,8.3,6.6,7.5,38,176,7,3\\r\\n2019,Honda,Civic Coupe,Compact,2,4,M6,X,9.3,6.7,8.1,35,189,6,3\\r\\n2019,Honda,Civic Coupe Si,Compact,1.5,4,M6,Z,8.4,6.2,7.4,38,173,7,3\\r\\n2019,Honda,Civic Hatchback,Full-size,1.5,4,AV,X,7.7,6,6.9,41,162,8,3\\r\\n2019,Honda,Civic Hatchback,Full-size,1.5,4,AV7,X,7.9,6.6,7.3,39,170,7,3\\r\\n2019,Honda,Civic Hatchback,Full-size,1.5,4,M6,X,8,6.2,7.2,39,167,8,3\\r\\n2019,Honda,Civic Hatchback Sport,Full-size,1.5,4,AV7,Z,7.9,6.6,7.3,39,170,7,3\\r\\n2019,Honda,Civic Hatchback Sport,Full-size,1.5,4,M6,Z,8,6.2,7.2,39,167,8,3\\r\\n2019,Honda,Civic Sedan,Mid-size,1.5,4,AV7,X,7.8,6.2,7.1,40,165,8,3\\r\\n2019,Honda,Civic Sedan,Mid-size,2,4,AV,X,7.9,6.1,7.1,40,167,8,3\\r\\n2019,Honda,Civic Sedan,Mid-size,2,4,M6,X,9.3,6.5,8,35,186,7,3\\r\\n2019,Honda,Civic Sedan Si,Mid-size,1.5,4,M6,Z,8.4,6.2,7.4,38,173,7,3\\r\\n2019,Honda,Civic Type R,Full-size,2,4,M6,Z,10.6,8.3,9.6,29,224,5,3\\r\\n2019,Honda,CR-V,SUV: Small,1.5,4,AV,X,8.4,7,7.8,36,181,7,5\\r\\n2019,Honda,CR-V AWD,SUV: Small,1.5,4,AV,X,8.7,7.2,8,35,188,6,5\\r\\n2019,Honda,Fit,Station wagon: Small,1.5,4,AV,X,7,5.9,6.5,43,151,8,7\\r\\n2019,Honda,Fit,Station wagon: Small,1.5,4,AV7,X,7.6,6.5,7,40,166,8,7\\r\\n2019,Honda,Fit,Station wagon: Small,1.5,4,M6,X,8.1,6.6,7.4,38,174,7,3\\r\\n2019,Honda,HR-V,Station wagon: Small,1.8,4,AV,X,8.4,7,7.8,36,181,7,5\\r\\n2019,Honda,HR-V AWD,Station wagon: Small,1.8,4,AV,X,8.8,7.5,8.2,34,193,6,5\\r\\n2019,Honda,HR-V AWD,Station wagon: Small,1.8,4,AV7,X,9.1,7.7,8.5,33,199,6,5\\r\\n2019,Honda,Insight EX,Mid-size,1.5,4,AV,X,4.6,5.3,4.9,58,114,10,7\\r\\n2019,Honda,Insight Touring,Mid-size,1.5,4,AV,X,4.6,5.3,4.9,58,114,10,7\\r\\n2019,Honda,Odyssey,Minivan,3.5,6,AS9,X,12.6,8.4,10.7,26,252,4,3\\r\\n2019,Honda,Odyssey Touring,Minivan,3.5,6,AS10,X,12.2,8.5,10.6,27,247,4,3\\r\\n2019,Honda,Passport AWD,SUV: Small,3.5,6,A9,X,12.5,9.8,11.3,25,265,4,3\\r\\n2019,Honda,Pilot,SUV: Small,3.5,6,A6,X,12.4,8.7,10.7,26,250,4,3\\r\\n2019,Honda,Pilot AWD,SUV: Small,3.5,6,A6,X,13,9.3,11.3,25,266,4,3\\r\\n2019,Honda,Pilot AWD,SUV: Small,3.5,6,AS9,X,12.4,9.3,11,26,257,4,3\\r\\n2019,Honda,Ridgeline AWD,Pickup truck: Standard,3.5,6,A6,X,12.8,9.5,11.3,25,263,4,3\\r\\n2019,Hyundai,Accent,Compact,1.6,4,AS6,X,8.2,6.2,7.3,39,172,7,3\\r\\n2019,Hyundai,Accent,Compact,1.6,4,M6,X,8.2,6.3,7.3,39,173,7,3\\r\\n2019,Hyundai,Elantra,Mid-size,1.6,4,AM7,X,8.9,7,8.1,35,189,6,3\\r\\n2019,Hyundai,Elantra,Mid-size,1.6,4,M6,X,10.7,7.8,9.4,30,221,5,3\\r\\n2019,Hyundai,Elantra,Mid-size,2,4,AS6,X,8.3,6.4,7.4,38,174,7,5\\r\\n2019,Hyundai,Elantra,Mid-size,2,4,M6,X,9.2,6.5,8,35,188,6,5\\r\\n2019,Hyundai,Elantra GT,Full-size,1.6,4,AM7,X,9.7,7.4,8.6,33,205,6,5\\r\\n2019,Hyundai,Elantra GT,Full-size,1.6,4,M6,X,10.3,7.9,9.2,31,218,5,5\\r\\n2019,Hyundai,Elantra GT,Full-size,2,4,AS6,X,9.4,7.1,8.4,34,200,6,5\\r\\n2019,Hyundai,Elantra GT,Full-size,2,4,M6,X,9.8,7.4,8.7,32,207,6,5\\r\\n2019,Hyundai,IONIQ,Full-size,1.6,4,AM6,X,4.3,4.4,4.3,66,104,10,7\\r\\n2019,Hyundai,IONIQ Blue,Full-size,1.6,4,AM6,X,4.2,4,4.1,69,96,10,7\\r\\n2019,Hyundai,Kona,SUV: Small,2,4,AS6,X,8.6,7,7.9,36,186,7,5\\r\\n2019,Hyundai,Kona AWD,SUV: Small,1.6,4,AM7,X,9,8,8.6,33,201,6,5\\r\\n2019,Hyundai,Kona AWD,SUV: Small,2,4,AS6,X,9.2,7.8,8.6,33,202,6,5\\r\\n2019,Hyundai,Santa Fe,SUV: Small,2.4,4,AS8,X,10.8,8,9.6,29,225,5,5\\r\\n2019,Hyundai,Santa Fe AWD,SUV: Small,2,4,AS8,X,12.3,9.8,11.2,25,262,4,5\\r\\n2019,Hyundai,Santa Fe AWD,SUV: Small,2.4,4,AS8,X,11.2,8.7,10.1,28,237,5,5\\r\\n2019,Hyundai,Santa Fe XL,SUV: Small,3.3,6,AS6,X,13.2,9.4,11.5,25,268,4,3\\r\\n2019,Hyundai,Santa Fe XL AWD,SUV: Small,3.3,6,AS6,X,13.4,9.7,11.7,24,276,4,3\\r\\n2019,Hyundai,Santa Fe XL Ultimate AWD,SUV: Small,3.3,6,AS6,X,14.1,10.8,12.6,22,297,3,3\\r\\n2019,Hyundai,Sonata,Full-size,2,4,AS8,X,10.4,7.4,9.1,31,212,5,5\\r\\n2019,Hyundai,Sonata,Full-size,2.4,4,AS6,X,9.3,7.1,8.3,34,198,6,7\\r\\n2019,Hyundai,Sonata SE,Full-size,2.4,4,AS6,X,9.2,6.8,8.1,35,190,6,7\\r\\n2019,Hyundai,Sonata Hybrid,Mid-size,2,4,AM6,X,6,5.3,5.7,50,135,9,7\\r\\n2019,Hyundai,Sonata Hybrid SE,Mid-size,2,4,AM6,X,5.9,5.1,5.6,50,132,9,7\\r\\n2019,Hyundai,Tucson,SUV: Small,2,4,AS6,X,10,7.9,9.1,31,216,5,5\\r\\n2019,Hyundai,Tucson AWD,SUV: Small,2,4,AS6,X,10.8,9.2,10.1,28,239,5,5\\r\\n2019,Hyundai,Tucson AWD,SUV: Small,2.4,4,AS6,X,11,9.1,10.1,28,240,5,5\\r\\n2019,Hyundai,Veloster,Compact,2,4,AS6,X,9.1,7.1,8.2,34,193,6,5\\r\\n2019,Hyundai,Veloster,Compact,2,4,M6,X,9.4,7.1,8.4,34,198,6,5\\r\\n2019,Hyundai,Veloster N,Compact,2,4,M6,X,10.6,8.3,9.5,30,226,5,3\\r\\n2019,Hyundai,Veloster Turbo,Compact,1.6,4,AM7,X,8.5,6.9,7.8,36,184,7,5\\r\\n2019,Hyundai,Veloster Turbo,Compact,1.6,4,M6,X,9.4,7,8.3,34,197,6,5\\r\\n2019,Infiniti,Q50 AWD,Mid-size,2,4,AS7,Z,10.7,8.6,9.7,29,229,5,3\\r\\n2019,Infiniti,Q50 AWD,Mid-size,3,6,AS7,Z,12.4,8.7,10.8,26,253,4,3\\r\\n2019,Infiniti,Q50 AWD Red Sport,Mid-size,3,6,AS7,Z,12.5,9.3,11.1,25,261,4,3\\r\\n2019,Infiniti,Q60 AWD,Subcompact,2,4,AS7,Z,11.2,8.5,10,28,233,5,3\\r\\n2019,Infiniti,Q60 AWD,Subcompact,3,6,AS7,Z,12.3,8.7,10.7,26,251,4,3\\r\\n2019,Infiniti,Q60 AWD Red Sport,Subcompact,3,6,AS7,Z,12.5,9.2,11,26,259,4,3\\r\\n2019,Infiniti,Q70 AWD,Mid-size,3.7,6,AS7,Z,13.2,9.8,11.7,24,275,4,3\\r\\n2019,Infiniti,Q70 AWD,Mid-size,5.6,8,AS7,Z,14.9,10.2,12.8,22,301,3,3\\r\\n2019,Infiniti,QX50 AWD,SUV: Small,2,4,AV8,Z,10,7.8,9,31,211,5,5\\r\\n2019,Infiniti,QX60 AWD,SUV: Small,3.5,6,AV7,Z,12.5,9,10.9,26,257,4,3\\r\\n2019,Infiniti,QX80 4WD,SUV: Standard,5.6,8,AS7,Z,17.4,12.2,15.1,19,354,2,3\\r\\n2019,Jaguar,E-PACE P250,SUV: Small,2,4,AS9,Z,11,8.4,9.8,29,231,5,7\\r\\n2019,Jaguar,F-PACE 20d,SUV: Small,2,4,AS8,D,8.9,7.2,8.1,35,218,5,1\\r\\n2019,Jaguar,F-PACE 25t,SUV: Small,2,4,AS8,Z,10.7,8.8,9.9,29,227,5,7\\r\\n2019,Jaguar,F-PACE 35t,SUV: Small,3,6,AS8,Z,13.3,10,11.8,24,277,4,7\\r\\n2019,Jaguar,F-TYPE Convertible,Two-seater,2,4,AS8,Z,10.2,7.8,9.2,31,215,5,7\\r\\n2019,Jaguar,F-TYPE Convertible,Two-seater,3,6,AS8,Z,11.9,8.5,10.4,27,242,5,7\\r\\n2019,Jaguar,F-TYPE Convertible,Two-seater,3,6,M6,Z,14.9,9.8,12.6,22,296,3,7\\r\\n2019,Jaguar,F-TYPE Convertible R-Dynamic,Two-seater,3,6,AS8,Z,12.4,8.8,10.8,26,253,4,7\\r\\n2019,Jaguar,F-TYPE Convertible R-Dynamic,Two-seater,3,6,M6,Z,15.3,10,12.9,22,302,3,7\\r\\n2019,Jaguar,F-TYPE Convertible R-Dynamic AWD,Two-seater,3,6,AS8,Z,13,9.2,11.3,25,265,4,7\\r\\n2019,Jaguar,F-TYPE Coupe,Two-seater,2,4,AS8,Z,10.2,7.8,9.2,31,215,5,7\\r\\n2019,Jaguar,F-TYPE Coupe,Two-seater,3,6,AS8,Z,11.9,8.5,10.4,27,242,5,7\\r\\n2019,Jaguar,F-TYPE Coupe,Two-seater,3,6,M6,Z,14.9,9.8,12.6,22,296,3,7\\r\\n2019,Jaguar,F-TYPE Coupe R-Dynamic,Two-seater,3,6,AS8,Z,12.4,8.8,10.8,26,253,4,7\\r\\n2019,Jaguar,F-TYPE Coupe R-Dynamic,Two-seater,3,6,M6,Z,15.3,10,12.9,22,302,3,7\\r\\n2019,Jaguar,F-TYPE Coupe R-Dynamic AWD,Two-seater,3,6,AS8,Z,13,9.2,11.3,25,265,4,7\\r\\n2019,Jaguar,F-TYPE R AWD Convertible,Two-seater,5,8,AS8,Z,15.6,10.4,13.3,21,311,3,3\\r\\n2019,Jaguar,F-TYPE R AWD Coupe,Two-seater,5,8,AS8,Z,15.6,10.4,13.3,21,311,3,3\\r\\n2019,Jaguar,XE 20d AWD,Compact,2,4,AS8,D,7.8,5.8,6.9,41,186,7,1\\r\\n2019,Jaguar,XE 25t AWD,Compact,2,4,AS8,Z,9.8,6.9,8.5,33,200,6,7\\r\\n2019,Jaguar,XE 35t AWD,Compact,3,6,AS8,Z,11.8,8.2,10.2,28,238,5,7\\r\\n2019,Jaguar,XF 20d AWD,Mid-size,2,4,AS8,D,7.8,5.8,6.9,41,186,7,1\\r\\n2019,Jaguar,XF 25t AWD,Mid-size,2,4,AS8,Z,10.1,7.2,8.8,32,207,6,7\\r\\n2019,Jaguar,XF 35t AWD,Mid-size,3,6,AS8,Z,12,8.4,10.4,27,243,5,7\\r\\n2019,Jaguar,XJ R-Sport AWD,Full-size,3,6,AS8,Z,14,9,11.8,24,276,4,7\\r\\n2019,Jaguar,XJL Portfolio AWD,Full-size,3,6,AS8,Z,14,9.4,11.9,24,280,4,7\\r\\n2019,Jaguar,XJR LWB,Full-size,5,8,AS8,Z,15.8,10.3,13.3,21,313,3,3\\r\\n2019,Jeep,Cherokee,SUV: Small,2,4,A9,X,10.4,7.6,9.1,31,214,5,5\\r\\n2019,Jeep,Cherokee,SUV: Small,2.4,4,A9,X,10.8,7.6,9.3,30,219,5,3\\r\\n2019,Jeep,Cherokee,SUV: Small,3.2,6,A9,X,11.9,8.2,10.2,28,240,5,5\\r\\n2019,Jeep,Cherokee 4X4 Active Drive I,SUV: Small,2,4,A9,X,11.2,8,9.8,29,229,5,5\\r\\n2019,Jeep,Cherokee 4X4 Active Drive I,SUV: Small,2.4,4,A9,X,11.2,8,9.8,29,230,5,3\\r\\n2019,Jeep,Cherokee 4X4 Active Drive I,SUV: Small,3.2,6,A9,X,12.2,8.6,10.6,27,249,4,5\\r\\n2019,Jeep,Cherokee 4X4 Active Drive II,SUV: Small,2,4,A9,X,11.5,8.6,10.2,28,240,5,5\\r\\n2019,Jeep,Cherokee 4X4 Active Drive II,SUV: Small,3.2,6,A9,X,12.8,9,11.1,25,259,4,5\\r\\n2019,Jeep,Cherokee 4X4 Active Drive Lock,SUV: Small,2,4,A9,X,11.8,9.2,10.6,27,249,4,5\\r\\n2019,Jeep,Cherokee 4X4 Active Drive Lock,SUV: Small,3.2,6,A9,X,12.9,9.9,11.6,24,269,4,5\\r\\n2019,Jeep,Compass,SUV: Small,2.4,4,A6,X,10.6,7.6,9.3,30,218,5,5\\r\\n2019,Jeep,Compass,SUV: Small,2.4,4,M6,X,10.4,7.3,9,31,211,5,3\\r\\n2019,Jeep,Compass 4X4,SUV: Small,2.4,4,A9,X,10.8,7.8,9.5,30,222,5,5\\r\\n2019,Jeep,Compass 4X4,SUV: Small,2.4,4,M6,X,10.8,7.6,9.4,30,221,5,3\\r\\n2019,Jeep,Grand Cherokee 4X4,SUV: Standard,3.6,6,A8,X,12.7,9.6,11.3,25,265,4,5\\r\\n2019,Jeep,Grand Cherokee 4X4,SUV: Standard,5.7,8,A8,X,16.7,10.9,14.1,20,331,3,3\\r\\n2019,Jeep,Grand Cherokee 4X4 EcoDiesel,SUV: Standard,3,6,A8,D,11.2,8.5,10,28,268,4,1\\r\\n2019,Jeep,Grand Cherokee 4X4 SRT,SUV: Standard,6.4,8,A8,Z,18.3,12.6,15.7,18,368,2,1\\r\\n2019,Jeep,Grand Cherokee 4X4 Trackhawk,SUV: Standard,6.2,8,A8,Z,20.9,13.8,17.7,16,413,1,1\\r\\n2019,Jeep,Renegade,SUV: Small,1.3,4,A9,X,9.8,7.4,8.7,32,204,6,6\\r\\n2019,Jeep,Renegade,SUV: Small,2.4,4,A9,X,10.8,7.8,9.5,30,222,5,5\\r\\n2019,Jeep,Renegade 4X4,SUV: Small,1.3,4,A9,X,10.1,8.1,9.2,31,216,5,6\\r\\n2019,Jeep,Renegade 4X4,SUV: Small,2.4,4,A9,X,11.2,8.2,9.8,29,230,5,5\\r\\n2019,Jeep,Renegade 4X4 Trailhawk,SUV: Small,1.3,4,A9,X,10.8,8.7,9.9,29,230,5,6\\r\\n2019,Jeep,Wrangler JL 4X4,SUV: Small,2,4,A8,X,10.5,9.4,10,28,233,5,5\\r\\n2019,Jeep,Wrangler JL 4X4,SUV: Small,3.6,6,A8,X,12.8,10.4,11.8,24,274,4,5\\r\\n2019,Jeep,Wrangler JL 4X4,SUV: Small,3.6,6,M6,X,13.7,9.6,11.8,24,277,4,5\\r\\n2019,Jeep,Wrangler JL Unlimited 4X4,SUV: Small,2,4,A8,X,10.9,10,10.5,27,245,5,5\\r\\n2019,Jeep,Wrangler JL Unlimited 4X4,SUV: Small,3.6,6,A8,X,12.9,10.2,11.7,24,275,4,5\\r\\n2019,Jeep,Wrangler JL Unlimited 4X4,SUV: Small,3.6,6,M6,X,13.8,10.1,12.2,23,285,3,5\\r\\n2019,Kia,Cadenza,Full-size,3.3,6,AS8,X,11.6,8.5,10.2,28,238,5,3\\r\\n2019,Kia,Forte,Mid-size,2,4,AV,X,7.7,5.9,6.9,41,164,8,5\\r\\n2019,Kia,Forte,Mid-size,2,4,M6,X,8.6,6.4,7.6,37,180,7,5\\r\\n2019,Kia,Niro,Station wagon: Small,1.6,4,AM6,X,4.6,5.1,4.8,59,114,10,7\\r\\n2019,Kia,Niro FE,Station wagon: Small,1.6,4,AM6,X,4.5,4.8,4.7,60,110,10,7\\r\\n2019,Kia,Niro Touring,Station wagon: Small,1.6,4,AM6,X,5.1,5.8,5.4,52,129,9,7\\r\\n2019,Kia,Optima,Full-size,2,4,AS6,X,11.2,7.9,9.7,29,230,5,5\\r\\n2019,Kia,Optima,Full-size,2.4,4,AS6,X,9.5,7.1,8.4,34,199,6,5\\r\\n2019,Kia,Optima Hybrid,Mid-size,2,4,AM6,X,6.1,5.2,5.7,50,133,9,3\\r\\n2019,Kia,Rio,Compact,1.6,4,AS6,X,8.5,6.4,7.5,38,177,7,3\\r\\n2019,Kia,Rio,Compact,1.6,4,M6,X,8.3,6.4,7.5,38,175,7,3\\r\\n2019,Kia,Sedona,Minivan,3.3,6,AS8,X,12.7,10,11.5,25,272,4,5\\r\\n2019,Kia,Sorento,SUV: Small,2.4,4,AS6,X,10.7,8.2,9.6,29,225,5,5\\r\\n2019,Kia,Sorento AWD,SUV: Small,2.4,4,AS6,X,11.2,9,10.2,28,242,5,5\\r\\n2019,Kia,Sorento AWD,SUV: Small,3.3,6,AS8,X,12.5,9.7,11.2,25,265,4,5\\r\\n2019,Kia,Soul,Station wagon: Small,1.6,4,AM7,X,9.1,7.7,8.5,33,199,6,3\\r\\n2019,Kia,Soul,Station wagon: Small,1.6,4,AS6,X,9,7.6,8.4,34,198,6,3\\r\\n2019,Kia,Soul,Station wagon: Small,2,4,AS6,X,9.5,7.8,8.7,32,206,6,5\\r\\n2019,Kia,Sportage,SUV: Small,2.4,4,AS6,X,10.3,7.8,9.2,31,218,5,5\\r\\n2019,Kia,Sportage AWD,SUV: Small,2,4,AS6,X,11.9,10.2,11.1,25,263,4,3\\r\\n2019,Kia,Sportage AWD,SUV: Small,2.4,4,AS6,X,11.3,9.5,10.5,27,247,4,5\\r\\n2019,Kia,Stinger AWD,Mid-size,2,4,AS8,Z,11.1,8.1,9.7,29,229,5,3\\r\\n2019,Kia,Stinger AWD,Mid-size,3.3,6,AS8,Z,13.6,9.6,11.8,24,279,4,3\\r\\n2019,Lamborghini,Aventador Coupe,Two-seater,6.5,12,AM7,Z,26.3,15.6,21.5,13,487,1,1\\r\\n2019,Lamborghini,Aventador Roadster,Two-seater,6.5,12,AM7,Z,26.6,15.8,21.7,13,493,1,1\\r\\n2019,Lamborghini,Huracan Coupe,Two-seater,5.2,10,AM7,Z,18.1,13.2,15.9,18,366,2,1\\r\\n2019,Lamborghini,Huracan Coupe AWD,Two-seater,5.2,10,AM7,Z,17.9,13,15.7,18,370,2,1\\r\\n2019,Lamborghini,Huracan Spyder,Two-seater,5.2,10,AM7,Z,18.1,13.2,15.9,18,366,2,1\\r\\n2019,Lamborghini,Huracan Spyder AWD,Two-seater,5.2,10,AM7,Z,17.9,13,15.7,18,370,2,1\\r\\n2019,Lamborghini,Huracan Performante Coupe,Two-seater,5.2,10,AM7,Z,17.9,13,15.7,18,370,2,1\\r\\n2019,Lamborghini,Huracan Performante Spyder,Two-seater,5.2,10,AM7,Z,17.9,13,15.7,18,370,2,1\\r\\n2019,Lamborghini,Urus,SUV: Standard,4,8,AS8,Z,19.2,14.1,16.9,17,384,1,3\\r\\n2019,Land Rover,Discovery,SUV: Standard,3,6,AS8,Z,14.8,11.4,13.3,21,311,3,7\\r\\n2019,Land Rover,Discovery TD6 Diesel,SUV: Standard,3,6,AS8,D,11.3,9.2,10.4,27,279,4,1\\r\\n2019,Land Rover,Discovery Sport,SUV: Small,2,4,AS9,Z,11.4,9.3,10.5,27,246,5,7\\r\\n2019,Land Rover,Range Rover 3.0,SUV: Standard,3,6,AS8,Z,14.1,10.3,12.4,23,291,3,7\\r\\n2019,Land Rover,Range Rover TD6 Diesel,SUV: Standard,3,6,AS8,D,10.7,8.3,9.6,29,256,4,1\\r\\n2019,Land Rover,Range Rover 5.0 Supercharged,SUV: Standard,5,8,AS8,Z,14.4,11.3,13,22,305,3,3\\r\\n2019,Land Rover,Range Rover SVAutobiography LWB,SUV: Standard,5,8,AS8,Z,17.9,12.7,15.5,18,365,2,3\\r\\n2019,Land Rover,Range Rover Sport 3.0,SUV: Standard,3,6,AS8,Z,14.1,10.3,12.4,23,291,3,7\\r\\n2019,Land Rover,Range Rover Sport TD6 Diesel,SUV: Standard,3,6,AS8,D,10.7,8.3,9.6,29,256,4,1\\r\\n2019,Land Rover,Range Rover Sport Supercharged,SUV: Standard,5,8,AS8,Z,14.1,10.7,12.6,22,294,3,3\\r\\n2019,Land Rover,Range Rover Evoque,SUV: Small,2,4,AS9,Z,10.9,8,9.6,29,225,5,7\\r\\n2019,Land Rover,Range Rover Evoque Convertible,SUV: Small,2,4,AS9,Z,11.2,8.2,9.8,29,231,5,7\\r\\n2019,Land Rover,Range Rover Velar D180,SUV: Small,2,4,AS8,D,9.2,7.8,8.5,33,229,5,1\\r\\n2019,Land Rover,Range Rover Velar P300,SUV: Small,2,4,AS8,Z,11.7,9.2,10.6,27,248,4,7\\r\\n2019,Land Rover,Range Rover Velar P380,SUV: Small,3,6,AS8,Z,13,10,11.6,24,273,4,7\\r\\n2019,Lexus,ES 300h,Mid-size,2.5,4,AV6,X,5.5,5.2,5.3,53,124,10,7\\r\\n2019,Lexus,ES 350,Mid-size,3.5,6,AS8,X,10.6,7.2,9.1,31,211,5,5\\r\\n2019,Lexus,ES 350 F SPORT,Mid-size,3.5,6,AS8,X,10.9,7.5,9.4,30,219,5,5\\r\\n2019,Lexus,GS 350 AWD,Mid-size,3.5,6,AS6,Z,12.3,9.1,10.9,26,254,4,5\\r\\n2019,Lexus,GS F,Compact,5,8,AS8,Z,14.9,9.7,12.5,23,293,3,5\\r\\n2019,Lexus,GX 460,SUV: Standard,4.6,8,AS6,Z,16,12.9,14.6,19,341,2,3\\r\\n2019,Lexus,IS 300,Compact,2,4,AS8,Z,11,7.6,9.5,30,220,5,5\\r\\n2019,Lexus,IS 300 AWD,Compact,3.5,6,AS6,Z,12.3,9.1,10.9,26,254,4,5\\r\\n2019,Lexus,IS 350 AWD,Compact,3.5,6,AS6,Z,12.3,9.1,10.9,26,254,4,5\\r\\n2019,Lexus,LC 500,Subcompact,5,8,AS10,Z,15.1,9.5,12.6,22,294,3,5\\r\\n2019,Lexus,LC 500h,Subcompact,3.5,6,AV10,Z,9,7.1,8.1,35,189,6,7\\r\\n2019,Lexus,LS 500 AWD,Mid-size,3.4,6,AS10,Z,13.1,8.7,11.1,25,261,4,3\\r\\n2019,Lexus,LS 500h AWD,Mid-size,3.5,6,AV10,Z,10.3,7.7,9.1,31,214,5,7\\r\\n2019,Lexus,LX 570,SUV: Standard,5.7,8,AS8,Z,18.2,12.8,15.8,18,371,2,3\\r\\n2019,Lexus,NX 300 AWD,SUV: Small,2,4,AS6,Z,10.7,8.5,9.7,29,226,5,3\\r\\n2019,Lexus,NX 300 AWD F SPORT,SUV: Small,2,4,AS6,Z,10.8,8.9,9.9,29,232,5,3\\r\\n2019,Lexus,NX 300h AWD,SUV: Small,2.5,4,AV6,X,7.2,7.9,7.5,38,176,7,7\\r\\n2019,Lexus,RC 300 AWD,Subcompact,3.5,6,AS6,Z,13.1,9.8,11.2,25,262,4,5\\r\\n2019,Lexus,RC 350 AWD,Subcompact,3.5,6,AS6,Z,13.1,9.8,11.2,25,262,4,5\\r\\n2019,Lexus,RC F,Subcompact,5,8,AS8,Z,15.2,9.5,12.6,22,289,3,5\\r\\n2019,Lexus,RX 350 AWD,SUV: Small,3.5,6,AS8,X,12.2,9,10.8,26,252,4,5\\r\\n2019,Lexus,RX 350 L AWD,SUV: Small,3.5,6,AS8,X,13.1,9.4,11.1,25,268,4,5\\r\\n2019,Lexus,RX 450h AWD,SUV: Standard,3.5,6,AV6,Z,7.5,8.4,7.9,36,185,7,7\\r\\n2019,Lexus,RX 450h L AWD,SUV: Standard,3.5,6,AV6,Z,8.1,8.4,8.1,35,190,6,7\\r\\n2019,Lexus,UX 200,Mid-size,2,4,AS10,X,8,6.3,7.2,39,168,8,6\\r\\n2019,Lexus,UX 250h,Compact,2,4,AV6,X,5.5,5.7,5.6,50,130,9,6\\r\\n2019,Lexus,UX 250h AWD,Compact,2,4,AV6,X,5.7,6.2,6,47,140,9,6\\r\\n2019,Lincoln,Continental AWD,Full-size,2.7,6,AS6,X,14,9.4,12,24,281,4,5\\r\\n2019,Lincoln,Continental AWD,Full-size,3,6,AS6,X,14.5,9.8,12.3,23,289,3,5\\r\\n2019,Lincoln,Continental AWD,Full-size,3.7,6,AS6,X,14.3,9.7,12.2,23,287,3,3\\r\\n2019,Lincoln,MKC AWD,SUV: Small,2,4,AS6,X,12.3,9.3,11,26,257,4,5\\r\\n2019,Lincoln,MKC AWD (Start/Stop),SUV: Small,2,4,AS6,X,12.2,9.3,10.9,26,256,4,5\\r\\n2019,Lincoln,MKC AWD,SUV: Small,2.3,4,AS6,X,13.1,9.5,11.5,25,270,4,3\\r\\n2019,Lincoln,MKT AWD,SUV: Standard,3.5,6,AS6,X,15.7,11.2,13.7,21,322,3,3\\r\\n2019,Lincoln,MKT Livery AWD,Special purpose vehicle,3.7,6,A6,X,14.7,10.3,12.7,22,297,3,3\\r\\n2019,Lincoln,MKZ AWD,Mid-size,2,4,AS6,X,12.1,8.4,10.4,27,245,5,5\\r\\n2019,Lincoln,MKZ AWD,Mid-size,3,6,AS6,X,14,9.2,11.8,24,278,4,5\\r\\n2019,Lincoln,MKZ Hybrid,Mid-size,2,4,AV,X,5.7,6.2,5.9,48,139,9,7\\r\\n2019,Lincoln,Nautilus,SUV: Small,2,4,AS8,X,12,9.6,10.7,26,250,4,5\\r\\n2019,Lincoln,Nautilus,SUV: Small,2.7,6,AS8,X,12.6,9.2,11,26,259,4,5\\r\\n2019,Lincoln,Navigator 4X4,SUV: Standard,3.5,6,AS10,X,15,11.4,13.4,21,314,3,5\\r\\n2019,Maserati,Ghibli,Mid-size,3,6,AS8,Z,14.1,9.8,12.2,23,286,3,1\\r\\n2019,Maserati,Ghibli S,Mid-size,3,6,AS8,Z,14.7,9.9,12.6,22,295,3,1\\r\\n2019,Maserati,Ghibli SQ4,Mid-size,3,6,AS8,Z,14.7,9.9,12.6,22,295,3,1\\r\\n2019,Maserati,GranTurismo Convertible,Subcompact,4.7,8,AS6,Z,17.8,11.6,15,19,354,2,1\\r\\n2019,Maserati,Levante,SUV: Standard,3,6,AS8,Z,15.9,11.1,13.7,21,324,3,1\\r\\n2019,Maserati,Levante S,SUV: Standard,3,6,AS8,Z,16.1,11.4,14,20,330,3,1\\r\\n2019,Maserati,Levante GTS,SUV: Standard,3.8,8,AS8,Z,17.9,12.9,15.3,18,360,2,1\\r\\n2019,Maserati,Levante Trofeo,SUV: Standard,3.8,8,AS8,Z,17.9,12.9,15.3,18,360,2,1\\r\\n2019,Maserati,Quattroporte S,Full-size,3,6,AS8,Z,15.1,10.3,12.8,22,299,3,1\\r\\n2019,Maserati,Quattroporte SQ4,Full-size,3,6,AS8,Z,15,10.3,12.8,22,301,3,1\\r\\n2019,Maserati,Quattroporte GTS,Full-size,3.8,8,AS8,Z,16,10.8,13.7,21,321,3,1\\r\\n2019,Mazda,CX-3,Compact,2,4,AS6,X,8.3,6.9,7.7,37,179,7,3\\r\\n2019,Mazda,CX-3,Compact,2,4,M6,X,8.8,7,8,35,186,7,3\\r\\n2019,Mazda,CX-3 4WD,Compact,2,4,AS6,X,8.6,7.4,8.1,35,189,6,3\\r\\n2019,Mazda,CX-5,SUV: Small,2,4,M6,X,9.7,7.7,8.8,32,206,6,3\\r\\n2019,Mazda,CX-5,SUV: Small,2.5,4,AS6,X,9.7,7.8,8.8,32,206,6,7\\r\\n2019,Mazda,CX-5 (Cylinder Deactivation),SUV: Small,2.5,4,AS6,X,9.3,7.6,8.5,33,201,6,7\\r\\n2019,Mazda,CX-5 4WD,SUV: Small,2.5,4,AS6,X,10.2,8.2,9.3,30,217,5,7\\r\\n2019,Mazda,CX-5 4WD (Cylinder Deactivation),SUV: Small,2.5,4,AS6,X,9.8,7.9,9,31,208,6,7\\r\\n2019,Mazda,CX-5 Turbo 4WD,SUV: Small,2.5,4,AS6,X,10.8,8.7,9.8,29,230,5,3\\r\\n2019,Mazda,CX-5 Diesel 4WD,SUV: Small,2.2,4,AS6,D,8.9,7.9,8.4,34,227,5,1\\r\\n2019,Mazda,CX-9,SUV: Small,2.5,4,AS6,X,10.6,8.4,9.6,29,225,5,3\\r\\n2019,Mazda,CX-9 4WD,SUV: Small,2.5,4,AS6,X,11.6,9.1,10.5,27,244,5,3\\r\\n2019,Mazda,Mazda3 4-Door,Compact,2,4,AS6,X,8.4,6.6,7.6,37,178,7,7\\r\\n2019,Mazda,Mazda3 4-Door (SIL),Compact,2,4,M6,X,8.7,6.4,7.7,37,180,7,7\\r\\n2019,Mazda,Mazda3 4-Door,Compact,2.5,4,AS6,X,8.8,6.4,7.7,37,181,7,7\\r\\n2019,Mazda,Mazda3 4-Door (Cylinder Deactivation),Compact,2.5,4,AS6,X,8.8,6.6,7.8,36,183,7,7\\r\\n2019,Mazda,Mazda3 4-Door 4WD,Compact,2.5,4,AS6,X,9.2,7,8.2,34,192,6,7\\r\\n2019,Mazda,Mazda3 5-Door,Mid-size,2,4,AS6,X,8.6,6.7,7.7,37,181,7,7\\r\\n2019,Mazda,Mazda3 5-Door (SIL),Mid-size,2,4,M6,X,8.7,6.6,7.8,36,181,7,7\\r\\n2019,Mazda,Mazda3 5-Door,Mid-size,2.5,4,AS6,X,9,6.8,8,35,187,7,7\\r\\n2019,Mazda,Mazda3 5-Door,Mid-size,2.5,4,M6,X,9.2,6.6,8.1,35,189,6,7\\r\\n2019,Mazda,Mazda3 5-Door 4WD,Mid-size,2.5,4,AS6,X,9.8,7.4,8.7,32,204,6,7\\r\\n2019,Mazda,Mazda6,Mid-size,2.5,4,AS6,X,9.1,6.7,8,35,187,7,7\\r\\n2019,Mazda,Mazda6 Turbo,Mid-size,2.5,4,AS6,X,10,7.5,8.9,32,208,6,3\\r\\n2019,Mazda,MX-5,Two-seater,2,4,AS6,Z,9,6.6,7.9,36,186,7,3\\r\\n2019,Mazda,MX-5 (SIL),Two-seater,2,4,M6,Z,9,7,8.1,35,189,6,3\\r\\n2019,Mercedes-Benz,A 220,Subcompact,2,4,AM7,Z,9.7,6.8,8.4,34,195,6,5\\r\\n2019,Mercedes-Benz,A 220 4MATIC,Subcompact,2,4,AM7,Z,9.6,7.1,8.5,33,199,6,5\\r\\n2019,Mercedes-Benz,A 250,Station wagon: Small,2,4,AM7,Z,9.4,6.8,8.3,34,192,6,5\\r\\n2019,Mercedes-Benz,A 250 4MATIC,Station wagon: Small,2,4,AM7,Z,9.9,7,8.6,33,201,6,5\\r\\n2019,Mercedes-Benz,AMG C 43 4MATIC,Compact,3,6,A9,Z,12.4,8.7,10.7,26,253,4,5\\r\\n2019,Mercedes-Benz,AMG C 43 4MATIC Cabriolet,Subcompact,3,6,A9,Z,12.7,9.2,11.2,25,263,4,5\\r\\n2019,Mercedes-Benz,AMG C 43 4MATIC Coupe,Subcompact,3,6,A9,Z,12.9,8.8,11.1,25,255,4,5\\r\\n2019,Mercedes-Benz,AMG C 43 4MATIC Wagon,Station wagon: Small,3,6,A9,Z,12.4,8.9,10.8,26,255,4,5\\r\\n2019,Mercedes-Benz,AMG C 63,Compact,4,8,A9,Z,13.2,8.7,11.2,25,263,4,5\\r\\n2019,Mercedes-Benz,AMG C 63 S,Compact,4,8,A9,Z,13.2,8.7,11.2,25,263,4,5\\r\\n2019,Mercedes-Benz,AMG C 63 S Cabriolet,Subcompact,4,8,A9,Z,13.9,9.7,12,24,282,4,5\\r\\n2019,Mercedes-Benz,AMG C 63 S Coupe,Subcompact,4,8,A9,Z,13.9,9.2,11.8,24,277,4,5\\r\\n2019,Mercedes-Benz,AMG CLA 45 4MATIC,Minicompact,2,4,AM7,Z,10.3,7.9,9.2,31,217,5,3\\r\\n2019,Mercedes-Benz,AMG CLS 53 4MATIC+,Compact,3,6,A9,Z,12.4,8.7,10.7,26,235,5,5\\r\\n2019,Mercedes-Benz,AMG E 53 4MATIC+,Mid-size,3,6,A9,Z,11.2,8.3,9.9,29,232,5,5\\r\\n2019,Mercedes-Benz,AMG E 53 4MATIC+ Cabriolet,Subcompact,3,6,A9,Z,12.5,9,10.9,26,245,5,5\\r\\n2019,Mercedes-Benz,AMG E 53 4MATIC+ Coupe,Subcompact,3,6,A9,Z,12.3,8.5,10.6,27,237,5,5\\r\\n2019,Mercedes-Benz,AMG E 53 4MATIC+ Wagon,Station wagon: Mid-size,3,6,A9,Z,11.5,8.6,10.2,28,239,5,5\\r\\n2019,Mercedes-Benz,AMG E 63 S 4MATIC+,Mid-size,4,8,A9,Z,16,10.5,13.5,21,318,3,5\\r\\n2019,Mercedes-Benz,AMG E 63 S 4MATIC+ Wagon,Station wagon: Mid-size,4,8,A9,Z,14.6,10.4,12.7,22,299,3,5\\r\\n2019,Mercedes-Benz,AMG G 63,SUV: Standard,4,8,A9,Z,18.1,15.6,17,17,396,1,3\\r\\n2019,Mercedes-Benz,AMG GLA 45 4MATIC,Station wagon: Mid-size,2,4,AM7,Z,10.7,8.3,9.6,29,225,5,3\\r\\n2019,Mercedes-Benz,AMG GLC 43 4MATIC,SUV: Small,3,6,A9,Z,12.5,9.6,11.2,25,262,4,5\\r\\n2019,Mercedes-Benz,AMG GLC 43 4MATIC Coupe,SUV: Small,3,6,A9,Z,12.6,9.7,11.3,25,265,4,5\\r\\n2019,Mercedes-Benz,AMG GLC 63 S 4MATIC+,SUV: Small,4,8,A9,Z,15,10.9,13.2,21,309,3,5\\r\\n2019,Mercedes-Benz,AMG GLC 63 S 4MATIC+ Coupe,SUV: Small,4,8,A9,Z,15,10.9,13.2,21,309,3,5\\r\\n2019,Mercedes-Benz,AMG GLE 43 4MATIC,SUV: Standard,3,6,A9,Z,14,10.6,12.4,23,292,3,3\\r\\n2019,Mercedes-Benz,AMG GLE 43 4MATIC Coupe,SUV: Standard,3,6,A9,Z,14.1,10.9,12.6,22,297,3,3\\r\\n2019,Mercedes-Benz,AMG GLE 63 S 4MATIC,SUV: Standard,4.7,8,A7,Z,17.7,13.4,15.8,18,370,2,3\\r\\n2019,Mercedes-Benz,AMG GLE 63 S 4MATIC Coupe,SUV: Standard,4.7,8,A7,Z,17.2,12.8,15.2,19,357,2,3\\r\\n2019,Mercedes-Benz,AMG GLS 63 4MATIC,SUV: Standard,4.7,8,A7,Z,17.8,13.2,15.7,18,370,2,3\\r\\n2019,Mercedes-Benz,AMG GT 53 4MATIC+ Coupe,Compact,3,6,A9,Z,12.4,9.8,11.2,25,264,4,6\\r\\n2019,Mercedes-Benz,AMG GT 63 4MATIC+ Coupe,Compact,4,8,A9,Z,15.5,11.5,13.7,21,323,3,5\\r\\n2019,Mercedes-Benz,AMG GT 63 S 4MATIC+ Coupe,Compact,4,8,A9,Z,15.6,11.5,13.7,21,324,3,5\\r\\n2019,Mercedes-Benz,AMG GT C Coupe,Two-seater,4,8,AM7,Z,15.3,11.4,13.5,21,315,3,5\\r\\n2019,Mercedes-Benz,AMG GT C Roadster,Two-seater,4,8,AM7,Z,15.2,11.4,13.5,21,315,3,5\\r\\n2019,Mercedes-Benz,AMG GT R Coupe,Two-seater,4,8,AM7,Z,15.9,11.8,14,20,327,3,5\\r\\n2019,Mercedes-Benz,AMG S 63 4MATIC+,Full-size,4,8,A9,Z,14.1,8.9,11.8,24,275,4,5\\r\\n2019,Mercedes-Benz,AMG S 63 4MATIC+ Cabriolet,Subcompact,4,8,A9,Z,15.8,9.8,13.1,22,306,3,5\\r\\n2019,Mercedes-Benz,AMG S 63 4MATIC+ Coupe,Compact,4,8,A9,Z,14,8.7,11.6,24,271,4,5\\r\\n2019,Mercedes-Benz,AMG S 65,Full-size,6,12,A7,Z,18.6,10.9,15.1,19,356,2,3\\r\\n2019,Mercedes-Benz,AMG S 65 Cabriolet,Subcompact,6,12,A9,Z,17.1,11,14.3,20,337,2,3\\r\\n2019,Mercedes-Benz,AMG S 65 Coupe,Compact,6,12,A9,Z,17.6,11,14.6,19,343,2,3\\r\\n2019,Mercedes-Benz,AMG SL 63,Two-seater,5.5,8,A7,Z,15.3,10.2,13,22,303,3,1\\r\\n2019,Mercedes-Benz,AMG SLC 43,Two-seater,3,6,A9,Z,11.8,8.2,10.2,28,238,5,5\\r\\n2019,Mercedes-Benz,B 250,Station wagon: Small,2,4,AM7,Z,9.8,6.8,8.4,34,196,6,5\\r\\n2019,Mercedes-Benz,B 250 4MATIC,Station wagon: Small,2,4,AM7,Z,10.3,7.8,9.1,31,215,5,5\\r\\n2019,Mercedes-Benz,C 300 4MATIC,Compact,2,4,A9,Z,11,7.3,9.4,30,219,5,5\\r\\n2019,Mercedes-Benz,C 300 4MATIC Cabriolet,Subcompact,2,4,A9,Z,11.3,8.1,9.9,29,231,5,5\\r\\n2019,Mercedes-Benz,C 300 4MATIC Coupe,Subcompact,2,4,A9,Z,10.9,7.7,9.5,30,221,5,5\\r\\n2019,Mercedes-Benz,C 300 4MATIC Wagon,Station wagon: Small,2,4,A9,Z,10.9,7.7,9.5,30,221,5,5\\r\\n2019,Mercedes-Benz,CLA 250,Minicompact,2,4,AM7,Z,9.6,6.6,8.2,34,193,6,5\\r\\n2019,Mercedes-Benz,CLA 250 4MATIC,Minicompact,2,4,AM7,Z,9.9,7.3,8.7,32,204,6,5\\r\\n2019,Mercedes-Benz,CLS 450 4MATIC,Compact,3,6,A9,Z,11.3,7.9,9.8,29,213,5,5\\r\\n2019,Mercedes-Benz,E 300 4MATIC,Mid-size,2,4,A9,Z,11,8.1,9.7,29,228,5,5\\r\\n2019,Mercedes-Benz,E 450 4MATIC,Mid-size,3,6,A9,Z,11.8,8.5,10.3,27,244,5,5\\r\\n2019,Mercedes-Benz,E 450 4MATIC Cabriolet,Subcompact,3,6,A9,Z,12.7,10.1,11.6,24,271,4,5\\r\\n2019,Mercedes-Benz,E 450 4MATIC Coupe,Subcompact,3,6,A9,Z,12.5,9.1,11,26,257,4,5\\r\\n2019,Mercedes-Benz,E 450 4MATIC Wagon,Station wagon: Mid-size,3,6,A9,Z,12.3,8.9,10.8,26,254,4,5\\r\\n2019,Mercedes-Benz,G 550,SUV: Standard,4,8,A9,Z,18,14.1,16.3,17,378,2,5\\r\\n2019,Mercedes-Benz,GLA 250 4MATIC,SUV: Small,2,4,AM7,Z,10.1,7.6,9,31,209,5,5\\r\\n2019,Mercedes-Benz,GLC 300 4MATIC,SUV: Small,2,4,A9,Z,11,8.7,10,28,234,4,5\\r\\n2019,Mercedes-Benz,GLC 300 4MATIC Coupe,SUV: Small,2,4,A9,Z,10.8,9,10,28,234,4,5\\r\\n2019,Mercedes-Benz,GLE 400 4MATIC,SUV: Standard,3,6,A9,Z,13.5,10.3,12.1,23,282,4,3\\r\\n2019,Mercedes-Benz,GLS 450 4MATIC,SUV: Standard,3,6,A9,Z,14.9,11.2,13.2,21,312,3,3\\r\\n2019,Mercedes-Benz,GLS 550 4MATIC,SUV: Standard,4.7,8,A9,Z,17.2,12.6,15.1,19,355,2,3\\r\\n2019,Mercedes-Benz,Maybach S 560 4MATIC,Full-size,4,8,A9,Z,14.4,9.5,12.2,23,286,3,5\\r\\n2019,Mercedes-Benz,Maybach S 650,Full-size,6,12,A7,Z,18.4,11.1,15.1,19,355,2,3\\r\\n2019,Mercedes-Benz,Metris Cargo,Special purpose vehicle,2,4,A7,Z,11.5,9.8,10.7,26,251,4,5\\r\\n2019,Mercedes-Benz,Metris Cargo LWB,Special purpose vehicle,2,4,A7,Z,11.3,9.6,10.5,27,248,4,5\\r\\n2019,Mercedes-Benz,Metris Passenger,Special purpose vehicle,2,4,A7,Z,12.3,10.3,11.4,25,268,4,5\\r\\n2019,Mercedes-Benz,S 450 4MATIC SWB,Mid-size,3,6,A9,Z,12.8,8.5,10.8,26,253,4,3\\r\\n2019,Mercedes-Benz,S 560 Cabriolet,Subcompact,4,8,A9,Z,13.8,9.2,11.7,24,275,4,5\\r\\n2019,Mercedes-Benz,S 560 4MATIC,Full-size,4,8,A9,Z,13.5,8.6,11.3,25,265,4,5\\r\\n2019,Mercedes-Benz,S 560 4MATIC SWB,Mid-size,4,8,A9,Z,13.5,8.6,11.3,25,265,4,5\\r\\n2019,Mercedes-Benz,SL 450,Two-seater,3,6,A9,Z,11.8,8.5,10.3,27,241,5,3\\r\\n2019,Mercedes-Benz,SL 550,Two-seater,4.7,8,A9,Z,13.5,9.3,11.6,24,270,4,1\\r\\n2019,Mercedes-Benz,SLC 300,Two-seater,2,4,A9,Z,10,7.3,8.8,32,205,6,3\\r\\n2019,MINI,Cooper 3 Door,Subcompact,1.5,3,AS6,Z,8.8,6.8,7.9,36,184,7,7\\r\\n2019,MINI,Cooper 3 Door,Subcompact,1.5,3,M6,Z,8.5,6.2,7.5,38,175,7,7\\r\\n2019,MINI,Cooper 5 Door,Subcompact,1.5,3,AS6,Z,8.8,6.8,7.9,36,184,7,7\\r\\n2019,MINI,Cooper 5 Door,Subcompact,1.5,3,M6,Z,8.4,6.3,7.5,38,175,7,7\\r\\n2019,MINI,Cooper Clubman ALL4,Mid-size,1.5,3,AS8,Z,10.2,7.6,9,31,212,5,3\\r\\n2019,MINI,Cooper Clubman ALL4,Mid-size,1.5,3,M6,Z,10.5,7.4,9.1,31,214,5,3\\r\\n2019,MINI,Cooper Convertible,Minicompact,1.5,3,AS6,Z,8.8,6.8,7.9,36,184,7,7\\r\\n2019,MINI,Cooper Convertible,Minicompact,1.5,3,M6,Z,8.4,6.3,7.5,38,175,7,7\\r\\n2019,MINI,Cooper Countryman ALL4,Station wagon: Small,1.5,3,AS8,Z,10.3,7.9,9.2,31,215,5,3\\r\\n2019,MINI,Cooper Countryman ALL4,Station wagon: Small,1.5,3,M6,Z,10.5,7.4,9.1,31,214,5,3\\r\\n2019,MINI,Cooper S 3 Door,Subcompact,2,4,AS6,Z,9.3,7.3,8.4,34,197,6,7\\r\\n2019,MINI,Cooper S 3 Door,Subcompact,2,4,M6,Z,10.2,7.4,9,31,210,5,7\\r\\n2019,MINI,Cooper S 5 Door,Subcompact,2,4,AS6,Z,9.3,7.3,8.4,34,197,6,7\\r\\n2019,MINI,Cooper S 5 Door,Subcompact,2,4,M6,Z,10.2,7.4,9,31,210,5,7\\r\\n2019,MINI,Cooper S Clubman ALL4,Mid-size,2,4,AS8,Z,10.4,7.6,9.2,31,214,5,7\\r\\n2019,MINI,Cooper S Clubman ALL4,Mid-size,2,4,M6,Z,11.4,7.7,9.7,29,227,5,7\\r\\n2019,MINI,Cooper S Convertible,Minicompact,2,4,AS6,Z,9.4,7.2,8.4,34,197,6,7\\r\\n2019,MINI,Cooper S Convertible,Minicompact,2,4,M6,Z,10.2,7.4,9,31,210,5,7\\r\\n2019,MINI,Cooper S Countryman ALL4,Mid-size,2,4,AS8,Z,10.5,7.6,9.2,31,215,5,7\\r\\n2019,MINI,Cooper S Countryman ALL4,Mid-size,2,4,M6,Z,11.3,7.8,9.7,29,228,5,7\\r\\n2019,MINI,John Cooper Works 3 Door,Subcompact,2,4,AS6,Z,9.3,7.3,8.4,34,197,6,3\\r\\n2019,MINI,John Cooper Works 3 Door,Subcompact,2,4,M6,Z,10.2,7.4,9,31,210,5,3\\r\\n2019,MINI,John Cooper Works Clubman ALL4,Mid-size,2,4,AS8,Z,10.4,7.6,9.2,31,214,5,3\\r\\n2019,MINI,John Cooper Works Clubman ALL4,Mid-size,2,4,M6,Z,11.4,7.7,9.7,29,227,5,3\\r\\n2019,MINI,John Cooper Works Convertible,Minicompact,2,4,AS6,Z,9.4,7.2,8.4,34,197,6,3\\r\\n2019,MINI,John Cooper Works Convertible,Minicompact,2,4,M6,Z,10.8,7.7,9.4,30,220,5,3\\r\\n2019,MINI,John Cooper Works Countryman ALL4,Mid-size,2,4,AS8,Z,10.6,7.8,9.3,30,220,5,3\\r\\n2019,MINI,John Cooper Works Countryman ALL4,Mid-size,2,4,M6,Z,11.3,7.8,9.7,29,228,5,3\\r\\n2019,Mitsubishi,Eclipse Cross 4WD,SUV: Small,1.5,4,AV8,X,9.6,8.9,9.3,30,216,5,5\\r\\n2019,Mitsubishi,Mirage,Compact,1.2,3,AV,X,6.6,5.6,6.2,46,143,9,5\\r\\n2019,Mitsubishi,Mirage,Compact,1.2,3,M5,X,7.1,5.8,6.5,43,151,8,5\\r\\n2019,Mitsubishi,Mirage G4,Compact,1.2,3,AV,X,6.9,5.7,6.4,44,148,8,5\\r\\n2019,Mitsubishi,Mirage G4,Compact,1.2,3,M5,X,7.2,5.9,6.6,43,153,8,5\\r\\n2019,Mitsubishi,Outlander 4WD,SUV: Small,2.4,4,AV6,X,9.9,8.1,9.1,31,212,5,5\\r\\n2019,Mitsubishi,Outlander 4WD,SUV: Small,3,6,AS6,Z,12,8.8,10.6,27,246,4,5\\r\\n2019,Mitsubishi,RVR,SUV: Small,2,4,AV6,X,9.7,7.8,8.8,32,206,6,5\\r\\n2019,Mitsubishi,RVR 4WD,SUV: Small,2,4,AV6,X,10.1,8.2,9.2,31,213,5,5\\r\\n2019,Mitsubishi,RVR 4WD,SUV: Small,2.4,4,AV6,X,10.3,8.3,9.4,30,218,5,5\\r\\n2019,Nissan,370Z,Two-seater,3.7,6,AS7,Z,12.6,9.3,11.1,25,261,4,3\\r\\n2019,Nissan,370Z,Two-seater,3.7,6,M6,Z,13.3,9.3,11.5,25,270,4,3\\r\\n2019,Nissan,370Z Roadster,Two-seater,3.7,6,AS7,Z,13,9.7,11.5,25,271,4,3\\r\\n2019,Nissan,370Z Roadster,Two-seater,3.7,6,M6,Z,13.6,9.7,11.8,24,279,4,3\\r\\n2019,Nissan,Altima,Mid-size,2.5,4,AV,X,8.6,6.1,7.4,38,174,7,7\\r\\n2019,Nissan,Altima SR/Platinum,Mid-size,2,4,AV,X,9.1,6.9,8.1,35,190,6,5\\r\\n2019,Nissan,Altima SR/Platinum,Mid-size,2.5,4,AV,X,8.5,6.3,7.5,38,177,7,7\\r\\n2019,Nissan,Altima AWD,Mid-size,2.5,4,AV,X,9.1,6.5,7.9,36,186,7,7\\r\\n2019,Nissan,Altima AWD SR/Platinum,Mid-size,2.5,4,AV,X,9.3,6.7,8.1,35,190,6,7\\r\\n2019,Nissan,Armada 4WD,SUV: Standard,5.6,8,AS7,X,17.7,12.9,15.5,18,364,2,3\\r\\n2019,Nissan,Frontier,Pickup truck: Small,2.5,4,A5,X,13.7,10.7,12.3,23,290,3,3\\r\\n2019,Nissan,Frontier,Pickup truck: Small,4,6,A5,X,14.7,10.3,12.7,22,299,3,3\\r\\n2019,Nissan,Frontier 4WD,Pickup truck: Small,4,6,A5,X,15.8,11.5,13.9,20,326,3,3\\r\\n2019,Nissan,Frontier 4WD,Pickup truck: Small,4,6,M6,X,15.1,11.5,13.5,21,317,3,3\\r\\n2019,Nissan,GT-R,Subcompact,3.8,6,AM6,Z,14.2,10.7,12.6,22,295,3,3\\r\\n2019,Nissan,Kicks,Mid-size,1.6,4,AV,X,7.7,6.6,7.2,39,169,8,7\\r\\n2019,Nissan,Maxima,Mid-size,3.5,6,AV7,Z,11.6,7.9,9.9,29,233,5,3\\r\\n2019,Nissan,Micra,Compact,1.6,4,A4,X,9,6.8,8,35,188,6,3\\r\\n2019,Nissan,Micra,Compact,1.6,4,M5,X,8.7,6.8,7.9,36,186,7,3\\r\\n2019,Nissan,Murano,Station wagon: Mid-size,3.5,6,AV7,X,11.7,8.3,10.2,28,240,5,5\\r\\n2019,Nissan,Murano AWD,Station wagon: Mid-size,3.5,6,AV7,X,11.7,8.5,10.3,27,242,5,5\\r\\n2019,Nissan,NV200 Cargo Van,Special purpose vehicle,2,4,AV,X,9.8,8.8,9.3,30,218,5,3\\r\\n2019,Nissan,Pathfinder,SUV: Small,3.5,6,AV,X,11.6,8.5,10.2,28,240,5,5\\r\\n2019,Nissan,Pathfinder 4WD,SUV: Small,3.5,6,AV,X,12.1,8.9,10.7,26,250,4,5\\r\\n2019,Nissan,Pathfinder 4WD Platinum,SUV: Small,3.5,6,AV,X,12.4,9.2,11,26,259,4,3\\r\\n2019,Nissan,Qashqai,Station wagon: Small,2,4,AV7,X,8.6,7.2,8,35,188,6,5\\r\\n2019,Nissan,Qashqai,Station wagon: Small,2,4,M6,X,10.1,8.1,9.2,31,217,5,5\\r\\n2019,Nissan,Qashqai AWD,Station wagon: Small,2,4,AV7,X,9.1,7.6,8.4,34,198,6,5\\r\\n2019,Nissan,Rogue,SUV: Small,2.5,4,AV,X,9.1,7.1,8.2,34,192,6,7\\r\\n2019,Nissan,Rogue AWD,SUV: Small,2.5,4,AV,X,9.6,7.5,8.7,32,204,6,7\\r\\n2019,Nissan,Sentra,Mid-size,1.8,4,AV,X,8.1,6.3,7.3,39,172,7,7\\r\\n2019,Nissan,Sentra,Mid-size,1.8,4,M6,X,8.8,6.6,7.8,36,183,7,1\\r\\n2019,Nissan,Sentra (Turbo),Mid-size,1.6,4,AV7,Z,8.9,7.3,8.2,34,193,6,3\\r\\n2019,Nissan,Sentra (Turbo),Mid-size,1.6,4,M6,Z,9.1,7.3,8.3,34,195,6,3\\r\\n2019,Nissan,Sentra Nismo,Mid-size,1.6,4,AV7,Z,9.4,7.8,8.7,32,205,6,3\\r\\n2019,Nissan,Sentra Nismo,Mid-size,1.6,4,M6,Z,9.5,7.6,8.7,32,204,6,3\\r\\n2019,Nissan,Titan,Pickup truck: Standard,5.6,8,AS7,X,15,11.2,13.3,21,312,3,3\\r\\n2019,Nissan,Titan 4WD,Pickup truck: Standard,5.6,8,AS7,X,15.2,11.1,13.4,21,315,3,3\\r\\n2019,Nissan,Titan 4WD Pro-4X,Pickup truck: Standard,5.6,8,AS7,X,15.9,11.9,14.1,20,331,3,3\\r\\n2019,Nissan,Versa,Mid-size,1.6,4,AV,X,7.6,6.2,7,40,164,8,5\\r\\n2019,Nissan,Versa,Mid-size,1.6,4,M5,X,8.6,6.6,7.7,37,180,7,5\\r\\n2019,Porsche,911 Carrera,Minicompact,3,6,AM7,Z,10.6,8,9.4,30,221,5,1\\r\\n2019,Porsche,911 Carrera,Minicompact,3,6,M7,Z,11.8,8.1,10.1,28,237,5,1\\r\\n2019,Porsche,911 Carrera Cabriolet,Minicompact,3,6,AM7,Z,10.8,8.3,9.7,29,227,5,1\\r\\n2019,Porsche,911 Carrera Cabriolet,Minicompact,3,6,M7,Z,12,8.2,10.3,27,241,5,1\\r\\n2019,Porsche,911 Carrera GTS,Minicompact,3,6,AM7,Z,11.5,9.1,10.4,27,243,5,1\\r\\n2019,Porsche,911 Carrera GTS,Minicompact,3,6,M7,Z,13,8.9,11.2,25,260,4,1\\r\\n2019,Porsche,911 Carrera GTS Cabriolet,Minicompact,3,6,AM7,Z,11.8,9.2,10.7,26,249,4,1\\r\\n2019,Porsche,911 Carrera GTS Cabriolet,Minicompact,3,6,M7,Z,12.7,9,11,26,258,4,1\\r\\n2019,Porsche,911 Carrera S,Minicompact,3,6,AM7,Z,10.8,8.3,9.7,29,226,5,1\\r\\n2019,Porsche,911 Carrera S,Minicompact,3,6,M7,Z,12.1,8.3,10.3,27,242,5,1\\r\\n2019,Porsche,911 Carrera S Cabriolet,Minicompact,3,6,AM7,Z,10.8,8.4,9.7,29,228,5,1\\r\\n2019,Porsche,911 Carrera S Cabriolet,Minicompact,3,6,M7,Z,12.1,8.3,10.4,27,243,5,1\\r\\n2019,Porsche,911 Carrera T,Minicompact,3,6,AM7,Z,11.9,9.1,10.6,27,248,4,1\\r\\n2019,Porsche,911 Carrera T,Minicompact,3,6,M7,Z,14.6,9.4,12.3,23,286,3,1\\r\\n2019,Porsche,911 Carrera 4,Minicompact,3,6,AM7,Z,10.7,8.3,9.6,29,225,5,1\\r\\n2019,Porsche,911 Carrera 4,Minicompact,3,6,M7,Z,12.1,8.3,10.4,27,242,5,1\\r\\n2019,Porsche,911 Carrera 4 Cabriolet,Minicompact,3,6,AM7,Z,11,8.4,9.8,29,230,5,1\\r\\n2019,Porsche,911 Carrera 4 Cabriolet,Minicompact,3,6,M7,Z,12.2,8.5,10.5,27,246,5,1\\r\\n2019,Porsche,911 Carrera 4 GTS,Minicompact,3,6,AM7,Z,11.8,9.2,10.6,27,248,4,1\\r\\n2019,Porsche,911 Carrera 4 GTS,Minicompact,3,6,M7,Z,12.8,8.9,11,26,257,4,1\\r\\n2019,Porsche,911 Carrera 4 GTS Cabriolet,Minicompact,3,6,AM7,Z,11.9,9.3,10.7,26,250,4,1\\r\\n2019,Porsche,911 Carrera 4 GTS Cabriolet,Minicompact,3,6,M7,Z,12.9,9.1,11.2,25,260,4,1\\r\\n2019,Porsche,911 Carrera 4S,Minicompact,3,6,AM7,Z,11.1,8.5,9.9,29,232,5,1\\r\\n2019,Porsche,911 Carrera 4S,Minicompact,3,6,M7,Z,12.1,8.4,10.4,27,243,5,1\\r\\n2019,Porsche,911 Carrera 4S Cabriolet,Minicompact,3,6,AM7,Z,11,8.5,9.9,29,231,5,1\\r\\n2019,Porsche,911 Carrera 4S Cabriolet,Minicompact,3,6,M7,Z,12.2,8.5,10.5,27,246,4,1\\r\\n2019,Porsche,911 GT2 RS,Two-seater,3.8,6,AM7,Z,15.3,11.2,13.5,21,315,3,1\\r\\n2019,Porsche,911 GT3,Two-seater,4,6,AM7,Z,15.8,11.7,13.9,20,324,3,1\\r\\n2019,Porsche,911 GT3,Two-seater,4,6,M6,Z,18,11.5,15.1,19,352,2,1\\r\\n2019,Porsche,911 GT3 RS,Two-seater,4,6,AM7,Z,16.1,12.2,14.4,20,335,3,1\\r\\n2019,Porsche,911 GT3 Touring,Two-seater,4,6,M6,Z,16.4,11.2,14.1,20,334,3,1\\r\\n2019,Porsche,911 Speedster,Two-seater,4,6,M6,Z,17.4,12.4,15.1,19,350,2,1\\r\\n2019,Porsche,911 Targa 4,Minicompact,3,6,AM7,Z,10.9,8.4,9.8,29,228,5,1\\r\\n2019,Porsche,911 Targa 4,Minicompact,3,6,M7,Z,12.2,8.5,10.5,27,246,5,1\\r\\n2019,Porsche,911 Targa 4 GTS,Minicompact,3,6,AM7,Z,12.1,9.2,10.8,26,251,4,1\\r\\n2019,Porsche,911 Targa 4 GTS,Minicompact,3,6,M7,Z,13.2,9.2,11.4,25,266,4,1\\r\\n2019,Porsche,911 Targa 4S,Minicompact,3,6,AM7,Z,11.1,8.6,10,28,233,5,1\\r\\n2019,Porsche,911 Targa 4S,Minicompact,3,6,M7,Z,12.2,8.5,10.5,27,246,4,1\\r\\n2019,Porsche,911 Turbo,Minicompact,3.8,6,AM7,Z,12.6,9.9,11.4,25,266,4,1\\r\\n2019,Porsche,911 Turbo Cabriolet,Minicompact,3.8,6,AM7,Z,12.7,9.9,11.4,25,267,4,1\\r\\n2019,Porsche,911 Turbo S,Minicompact,3.8,6,AM7,Z,12.6,9.9,11.4,25,266,4,1\\r\\n2019,Porsche,911 Turbo S Cabriolet,Minicompact,3.8,6,AM7,Z,12.7,9.9,11.4,25,267,4,1\\r\\n2019,Porsche,911 Turbo S Exclusive Cabriolet,Minicompact,3.8,6,AM7,Z,14.3,10.9,12.7,22,297,3,1\\r\\n2019,Porsche,Boxster,Two-seater,2,4,AM7,Z,10.5,8,9.4,30,219,5,3\\r\\n2019,Porsche,Boxster,Two-seater,2,4,M6,Z,11,8.3,9.8,29,229,5,3\\r\\n2019,Porsche,Boxster GTS,Two-seater,2.5,4,AM7,Z,11.8,9.2,10.6,27,249,4,3\\r\\n2019,Porsche,Boxster GTS,Two-seater,2.5,4,M6,Z,12.3,9.4,11,26,257,4,3\\r\\n2019,Porsche,Boxster S,Two-seater,2.5,4,AM7,Z,11.1,8.4,9.9,29,231,5,3\\r\\n2019,Porsche,Boxster S,Two-seater,2.5,4,M6,Z,12.1,9,10.7,26,249,4,3\\r\\n2019,Porsche,Cayenne,SUV: Standard,3,6,AS8,Z,12.5,10,11.4,25,265,4,5\\r\\n2019,Porsche,Cayenne S,SUV: Standard,2.9,6,AS8,Z,12.9,10.4,11.8,24,275,4,5\\r\\n2019,Porsche,Cayenne Turbo,SUV: Standard,4,8,AS8,Z,15.6,12.4,14.1,20,329,3,3\\r\\n2019,Porsche,Cayman,Two-seater,2,4,AM7,Z,10.5,8,9.4,30,219,5,3\\r\\n2019,Porsche,Cayman,Two-seater,2,4,M6,Z,11,8.3,9.8,29,229,5,3\\r\\n2019,Porsche,Cayman GTS,Two-seater,2.5,4,AM7,Z,11.8,9.2,10.6,27,249,4,3\\r\\n2019,Porsche,Cayman GTS,Two-seater,2.5,4,M6,Z,12.3,9.4,11,26,257,4,3\\r\\n2019,Porsche,Cayman S,Two-seater,2.5,4,AM7,Z,11.1,8.4,9.9,29,231,5,3\\r\\n2019,Porsche,Cayman S,Two-seater,2.5,4,M6,Z,12.1,9,10.7,26,249,4,3\\r\\n2019,Porsche,Macan,SUV: Small,2,4,AM7,Z,12.2,10.2,11.3,25,264,4,5\\r\\n2019,Porsche,Macan S,SUV: Small,3,6,AM7,Z,12.9,10.2,11.7,24,272,4,5\\r\\n2019,Porsche,Panamera,Full-size,3,6,AM8,Z,12.4,8.7,10.7,26,250,4,5\\r\\n2019,Porsche,Panamera 4,Full-size,3,6,AM8,Z,12.4,9,10.9,26,253,4,5\\r\\n2019,Porsche,Panamera 4 Executive,Full-size,3,6,AM8,Z,12.4,9,10.9,26,253,4,5\\r\\n2019,Porsche,Panamera 4 ST,Full-size,3,6,AM8,Z,12.2,8.9,10.7,26,250,4,5\\r\\n2019,Porsche,Panamera 4S,Full-size,2.9,6,AM8,Z,13.1,8.9,11.2,25,261,4,5\\r\\n2019,Porsche,Panamera 4S Executive,Full-size,2.9,6,AM8,Z,13.1,8.9,11.2,25,261,4,5\\r\\n2019,Porsche,Panamera 4S ST,Full-size,2.9,6,AM8,Z,13.1,9.8,11.6,24,273,4,5\\r\\n2019,Porsche,Panamera GTS,Full-size,4,8,AM8,Z,14.5,10.2,12.6,22,295,3,3\\r\\n2019,Porsche,Panamera GTS ST,Full-size,4,8,AM8,Z,15.7,10.5,13.4,21,313,3,3\\r\\n2019,Porsche,Panamera Turbo,Full-size,4,8,AM8,Z,12.8,9.2,11.2,25,261,4,3\\r\\n2019,Porsche,Panamera Turbo Executive,Full-size,4,8,AM8,Z,12.8,9.2,11.2,25,261,4,3\\r\\n2019,Porsche,Panamera Turbo ST,Full-size,4,8,AM8,Z,13.4,10.1,11.9,24,279,4,3\\r\\n2019,Ram,1500 eTorque,Pickup truck: Standard,3.6,6,A8,X,11.9,9.4,10.8,26,253,4,5\\r\\n2019,Ram,1500 HFE eTorque,Pickup truck: Standard,3.6,6,A8,X,11.6,9,10.4,27,246,5,5\\r\\n2019,Ram,1500,Pickup truck: Standard,5.7,8,A8,X,16.2,10.5,13.6,21,320,3,5\\r\\n2019,Ram,1500 eTorque,Pickup truck: Standard,5.7,8,A8,X,14.1,10.3,12.4,23,290,3,5\\r\\n2019,Ram,1500 4X4 eTorque,Pickup truck: Standard,3.6,6,A8,X,12.2,9.7,11.1,25,260,4,5\\r\\n2019,Ram,1500 4X4,Pickup truck: Standard,5.7,8,A8,X,16.1,11,13.8,20,325,3,5\\r\\n2019,Ram,1500 4X4 eTorque,Pickup truck: Standard,5.7,8,A8,X,14.3,11.1,12.9,22,302,3,5\\r\\n2019,Ram,1500 Classic EcoDiesel,Pickup truck: Standard,3,6,A8,D,11.8,8.6,10.4,27,278,4,1\\r\\n2019,Ram,1500 Classic FFV,Pickup truck: Standard,3.6,6,A8,X,13.9,9.6,11.9,24,280,4,3\\r\\n2019,Ram,1500 Classic FFV,Pickup truck: Standard,3.6,6,A8,E,19.7,13.8,17,17,283,4,3\\r\\n2019,Ram,1500 Classic,Pickup truck: Standard,5.7,8,A6,X,17,12,14.8,19,346,2,3\\r\\n2019,Ram,1500 Classic,Pickup truck: Standard,5.7,8,A8,X,15.7,11,13.6,21,319,3,3\\r\\n2019,Ram,1500 Classic 4X4 EcoDiesel,Pickup truck: Standard,3,6,A8,D,12.3,8.8,10.8,26,289,3,1\\r\\n2019,Ram,1500 Classic 4X4 FFV,Pickup truck: Standard,3.6,6,A8,X,14.5,10.2,12.6,22,294,3,3\\r\\n2019,Ram,1500 Classic 4X4 FFV,Pickup truck: Standard,3.6,6,A8,E,20.7,14.7,18,16,300,3,3\\r\\n2019,Ram,1500 Classic 4X4,Pickup truck: Standard,5.7,8,A6,X,18.7,13.3,16.3,17,382,1,3\\r\\n2019,Ram,1500 Classic 4X4,Pickup truck: Standard,5.7,8,A8,X,16.1,11.5,14,20,328,3,3\\r\\n2019,Ram,ProMaster City,Special purpose vehicle,2.4,4,A9,X,11.2,8.3,9.9,29,232,5,3\\r\\n2019,Rolls-Royce,Cullinan,Station wagon: Mid-size,6.7,12,AS8,Z,20,11.8,16.3,17,382,1,3\\r\\n2019,Rolls-Royce,Dawn,Compact,6.6,12,AS8,Z,20.3,13,17,17,397,1,3\\r\\n2019,Rolls-Royce,Ghost,Full-size,6.6,12,AS8,Z,20.3,13,17,17,397,1,3\\r\\n2019,Rolls-Royce,Ghost EWB,Full-size,6.6,12,AS8,Z,20.3,13,17,17,397,1,3\\r\\n2019,Rolls-Royce,Phantom,Full-size,6.7,12,AS8,Z,20,11.8,16.3,17,382,1,3\\r\\n2019,Rolls-Royce,Phantom EWB,Full-size,6.7,12,AS8,Z,20,11.8,16.3,17,382,1,3\\r\\n2019,Rolls-Royce,Wraith,Mid-size,6.6,12,AS8,Z,19.6,12.9,16.6,17,388,1,3\\r\\n2019,Subaru,Ascent AWD,SUV: Standard,2.4,4,AV8,X,11.6,9,10.4,27,244,5,3\\r\\n2019,Subaru,BRZ,Minicompact,2,4,AS6,Z,9.7,7.2,8.6,33,200,6,1\\r\\n2019,Subaru,BRZ,Minicompact,2,4,M6,Z,11.2,8.3,9.9,29,231,5,1\\r\\n2019,Subaru,Crosstrek AWD,SUV: Small,2,4,AV7,X,8.8,7.2,8.1,35,188,6,6\\r\\n2019,Subaru,Crosstrek AWD,SUV: Small,2,4,M6,X,10.5,8.1,9.4,30,220,5,6\\r\\n2019,Subaru,Forester AWD,SUV: Small,2.5,4,AV7,X,9,7.2,8.2,34,192,6,6\\r\\n2019,Subaru,Impreza 4-Door AWD,Mid-size,2,4,AV7,X,8.3,6.4,7.5,38,174,7,6\\r\\n2019,Subaru,Impreza 4-Door AWD,Mid-size,2,4,M5,X,10.1,7.5,8.9,32,209,5,6\\r\\n2019,Subaru,Impreza 5-Door AWD,Station wagon: Small,2,4,AV7,X,8.4,6.6,7.6,37,177,7,6\\r\\n2019,Subaru,Impreza 5-Door AWD,Station wagon: Small,2,4,M5,X,10.1,7.7,9,31,211,5,6\\r\\n2019,Subaru,Legacy AWD,Mid-size,2.5,4,AV7,X,9.3,7,8.2,34,193,6,5\\r\\n2019,Subaru,Legacy AWD,Mid-size,3.6,6,AV6,X,11.9,8.3,10.3,27,241,5,3\\r\\n2019,Subaru,Outback AWD,SUV: Small,2.5,4,AV7,X,9.4,7.3,8.5,33,198,6,5\\r\\n2019,Subaru,Outback AWD,SUV: Small,3.6,6,AV6,X,12,8.7,10.5,27,247,4,3\\r\\n2019,Subaru,WRX AWD,Compact,2,4,AV8,Z,12.6,9.6,11.2,25,256,4,1\\r\\n2019,Subaru,WRX AWD,Compact,2,4,M6,Z,11.3,8.5,10,28,235,5,1\\r\\n2019,Subaru,WRX STI AWD,Compact,2.5,4,M6,Z,14.3,10.7,12.7,22,296,3,1\\r\\n2019,Toyota,4Runner 4WD,SUV: Standard,4,6,AS5,X,14.3,11.9,13.2,21,308,3,3\\r\\n2019,Toyota,4Runner 4WD (Part-Time 4WD),SUV: Standard,4,6,AS5,X,14.3,11.9,13.2,21,308,3,3\\r\\n2019,Toyota,86,Minicompact,2,4,AS6,Z,9.9,7.3,8.7,32,204,6,1\\r\\n2019,Toyota,86,Minicompact,2,4,M6,Z,11.3,8.3,9.9,29,232,5,1\\r\\n2019,Toyota,Avalon,Mid-size,3.5,6,AS8,X,10.9,7.6,9.4,30,220,5,5\\r\\n2019,Toyota,Camry,Mid-size,2.5,4,AS8,X,8.1,5.7,6.9,41,164,8,7\\r\\n2019,Toyota,Camry LE/SE,Mid-size,2.5,4,AS8,X,8.4,6.1,7.4,38,173,7,7\\r\\n2019,Toyota,Camry XLE/XSE,Mid-size,2.5,4,AS8,X,8.5,6.2,7.5,38,175,7,7\\r\\n2019,Toyota,Camry,Mid-size,3.5,6,AS8,X,10.5,7.1,9,31,210,5,5\\r\\n2019,Toyota,Camry XSE,Mid-size,3.5,6,AS8,X,10.7,7.4,9.2,31,215,5,5\\r\\n2019,Toyota,Camry Hybrid LE,Mid-size,2.5,4,AV6,X,4.9,4.8,4.9,58,113,10,7\\r\\n2019,Toyota,Camry Hybrid XLE/SE,Mid-size,2.5,4,AV6,X,5.3,5,5.1,55,121,10,7\\r\\n2019,Toyota,C-HR,Compact,2,4,AS7,X,8.7,7.5,8.2,34,189,6,3\\r\\n2019,Toyota,Corolla,Mid-size,1.8,4,AV,X,8.3,6.5,7.5,38,174,7,3\\r\\n2019,Toyota,Corolla,Mid-size,1.8,4,AV7,X,8.3,6.7,7.6,37,178,7,3\\r\\n2019,Toyota,Corolla,Mid-size,1.8,4,M6,X,8.5,6.6,7.6,37,178,7,3\\r\\n2019,Toyota,Corolla LE Eco,Mid-size,1.8,4,AV,X,7.8,5.9,6.9,41,163,8,5\\r\\n2019,Toyota,Corolla Hatchback,Compact,2,4,AV10,X,7.5,5.8,6.7,42,157,8,6\\r\\n2019,Toyota,Corolla Hatchback,Compact,2,4,M6,X,8.4,6.3,7.5,38,174,7,6\\r\\n2019,Toyota,Highlander,SUV: Small,3.5,6,AS8,X,11.8,8.7,10.3,27,243,5,5\\r\\n2019,Toyota,Highlander AWD,SUV: Standard,3.5,6,AS8,X,12.1,9,10.6,27,250,4,5\\r\\n2019,Toyota,Highlander AWD (Start/Stop System),SUV: Standard,3.5,6,AS8,X,12,8.9,10.6,27,248,4,5\\r\\n2019,Toyota,Highlander AWD LE,SUV: Standard,3.5,6,AS8,X,11.7,8.8,10.4,27,242,5,5\\r\\n2019,Toyota,Highlander Hybrid AWD,SUV: Standard,3.5,6,AV6,X,8.1,8.5,8.3,34,193,6,7\\r\\n2019,Toyota,Prius,Mid-size,1.8,4,AV,X,4.4,4.6,4.4,64,105,10,7\\r\\n2019,Toyota,Prius AWD,Mid-size,1.8,4,AV,X,4.5,4.9,4.7,60,109,10,7\\r\\n2019,Toyota,Prius c,Compact,1.5,4,AV,X,4.9,5.5,5.1,55,120,10,7\\r\\n2019,Toyota,RAV4,SUV: Small,2.5,4,AS8,X,8.8,6.7,7.8,36,183,7,6\\r\\n2019,Toyota,RAV4 AWD,SUV: Small,2.5,4,AS8,X,9.2,7.1,8.3,34,190,6,6\\r\\n2019,Toyota,RAV4 Hybrid AWD,SUV: Small,2.5,4,AV6,X,5.8,6.3,6,47,140,9,7\\r\\n2019,Toyota,Sequoia 4WD,SUV: Standard,5.7,8,AS6,X,18.4,13.8,16.4,17,384,1,5\\r\\n2019,Toyota,Sienna,Minivan,3.5,6,AS8,X,12.4,8.9,10.8,26,254,4,5\\r\\n2019,Toyota,Sienna AWD,Minivan,3.5,6,AS8,X,13.4,9.6,11.7,24,274,4,5\\r\\n2019,Toyota,Tacoma,Pickup truck: Small,2.7,4,AS6,X,12.1,10.1,11.2,25,263,4,5\\r\\n2019,Toyota,Tacoma 4WD,Pickup truck: Small,2.7,4,AS6,X,12.7,10.6,11.7,24,274,4,5\\r\\n2019,Toyota,Tacoma 4WD,Pickup truck: Small,3.5,6,AS6,X,13,10.5,11.9,24,278,4,5\\r\\n2019,Toyota,Tacoma 4WD,Pickup truck: Small,3.5,6,M6,X,13.8,11.4,12.7,22,299,3,5\\r\\n2019,Toyota,Tacoma 4WD D-Cab Off-Road,Pickup truck: Small,3.5,6,M6,X,13.8,11.7,12.9,22,300,3,5\\r\\n2019,Toyota,Tundra,Pickup truck: Standard,5.7,8,AS6,X,17.7,13.6,15.9,18,371,2,5\\r\\n2019,Toyota,Tundra 4WD,Pickup truck: Standard,4.6,8,AS6,X,16.8,13.1,14.9,19,354,2,3\\r\\n2019,Toyota,Tundra 4WD,Pickup truck: Standard,5.7,8,AS6,X,18,14.1,16.3,17,382,1,5\\r\\n2019,Toyota,Yaris,Compact,1.5,4,AS6,X,7.3,5.8,6.6,43,155,8,3\\r\\n2019,Toyota,Yaris (SIL),Compact,1.5,4,M6,X,7.8,6,6.8,42,164,8,3\\r\\n2019,Toyota,Yaris Hatchback,Compact,1.5,4,A4,X,7.9,6.8,7.4,38,173,7,3\\r\\n2019,Toyota,Yaris Hatchback,Compact,1.5,4,M5,X,7.8,6.5,7.2,39,169,8,3\\r\\n2019,Volkswagen,Arteon 4MOTION,Full-size,2,4,AS8,Z,12,8.6,10.4,27,244,5,3\\r\\n2019,Volkswagen,Atlas,SUV: Small,2,4,AS8,X,11.6,9.1,10.5,27,245,5,3\\r\\n2019,Volkswagen,Atlas 4MOTION,SUV: Standard,3.6,6,AS8,X,13.8,10.2,12.2,23,286,3,5\\r\\n2019,Volkswagen,Beetle,Compact,2,4,AS6,X,9,7.1,8.2,34,191,6,7\\r\\n2019,Volkswagen,Beetle Convertible,Subcompact,2,4,AS6,X,9,7.1,8.2,34,191,6,7\\r\\n2019,Volkswagen,Beetle Dune,Compact,2,4,AS6,X,9.1,6.9,8.1,35,189,6,7\\r\\n2019,Volkswagen,Beetle Dune Convertible,Subcompact,2,4,AS6,X,9.1,6.9,8.1,35,189,6,7\\r\\n2019,Volkswagen,Golf,Compact,1.4,4,AS8,X,8.1,6.4,7.4,38,172,7,7\\r\\n2019,Volkswagen,Golf,Compact,1.4,4,M6,X,8.2,6.3,7.4,38,172,7,7\\r\\n2019,Volkswagen,Golf GTI,Compact,2,4,AM7,X,9.6,7.5,8.6,33,202,6,7\\r\\n2019,Volkswagen,Golf GTI,Compact,2,4,M6,X,9.8,7.3,8.7,32,203,6,7\\r\\n2019,Volkswagen,Golf R,Compact,2,4,AM7,Z,10.2,7.9,9.2,31,213,5,3\\r\\n2019,Volkswagen,Golf R,Compact,2,4,M6,Z,11.4,8.2,9.9,29,232,5,3\\r\\n2019,Volkswagen,Golf Alltrack,Station wagon: Small,1.8,4,AM6,X,10.7,8,9.4,30,220,5,7\\r\\n2019,Volkswagen,Golf Alltrack,Station wagon: Small,1.8,4,M6,X,11.1,7.8,9.6,29,225,5,7\\r\\n2019,Volkswagen,Golf SportWagen,Station wagon: Small,1.4,4,AS8,X,8.6,6.5,7.6,37,178,7,7\\r\\n2019,Volkswagen,Golf SportWagen,Station wagon: Small,1.4,4,M6,X,8.2,6.3,7.4,38,172,7,7\\r\\n2019,Volkswagen,Golf SportWagen 4MOTION,Station wagon: Small,1.8,4,AM6,X,10.8,8.1,9.6,29,224,5,7\\r\\n2019,Volkswagen,Golf SportWagen 4MOTION,Station wagon: Small,1.8,4,M6,X,10.8,7.6,9.3,30,218,5,7\\r\\n2019,Volkswagen,Jetta,Compact,1.4,4,AS8,X,7.8,5.9,7,40,162,8,7\\r\\n2019,Volkswagen,Jetta,Compact,1.4,4,M6,X,7.9,5.9,7,40,163,8,7\\r\\n2019,Volkswagen,Jetta GLI,Compact,2,4,AM7,X,9.3,7.2,8.4,34,196,6,7\\r\\n2019,Volkswagen,Jetta GLI,Compact,2,4,M6,X,9.6,7.3,8.5,33,200,6,7\\r\\n2019,Volkswagen,Passat,Mid-size,2,4,AS6,X,9.3,6.5,8.1,35,188,6,7\\r\\n2019,Volkswagen,Tiguan,SUV: Small,2,4,AS8,X,10.7,8,9.5,30,221,5,7\\r\\n2019,Volkswagen,Tiguan 4MOTION,SUV: Small,2,4,AS8,X,11.1,8.1,9.8,29,228,5,7\\r\\n2019,Volvo,S60 T5,Compact,2,4,AS8,Z,9.9,6.6,8.4,34,197,6,5\\r\\n2019,Volvo,S60 T6 AWD,Compact,2,4,AS8,Z,11.1,7.3,9.4,30,218,5,7\\r\\n2019,Volvo,S90 T5 AWD,Mid-size,2,4,AS8,Z,10.6,7.4,9.2,31,215,5,5\\r\\n2019,Volvo,S90 T6 AWD,Mid-size,2,4,AS8,Z,11.1,7.3,9.4,30,219,5,7\\r\\n2019,Volvo,V60 T5,Station wagon: Small,2,4,AS8,Z,9.9,6.6,8.4,34,197,6,5\\r\\n2019,Volvo,V60 T6 AWD,Station wagon: Small,2,4,AS8,Z,11.1,7.3,9.4,30,219,5,7\\r\\n2019,Volvo,V60 CC T5 AWD,Station wagon: Small,2,4,AS8,Z,10.8,7.6,9.3,30,218,5,5\\r\\n2019,Volvo,V90 T6 AWD,Station wagon: Mid-size,2,4,AS8,Z,11.1,7.3,9.4,30,219,5,7\\r\\n2019,Volvo,V90 CC T6 AWD,Station wagon: Mid-size,2,4,AS8,Z,11.6,8.1,10,28,233,5,7\\r\\n2019,Volvo,XC40 T5 AWD,SUV: Small,2,4,AS8,Z,10.3,7.5,9,31,211,5,5\\r\\n2019,Volvo,XC60 T5 AWD,SUV: Small,2,4,AS8,Z,11.3,8.5,10,28,233,5,5\\r\\n2019,Volvo,XC60 T6 AWD,SUV: Small,2,4,AS8,Z,11.8,8.6,10.4,27,242,5,7\\r\\n2019,Volvo,XC90 T5 AWD,SUV: Standard,2,4,AS8,Z,11.3,8.5,10,28,233,5,5\\r\\n2019,Volvo,XC90 T6 AWD,SUV: Standard,2,4,AS8,Z,12.1,8.9,10.7,26,250,4,7\\r\\n'}"
            ]
          },
          "metadata": {},
          "execution_count": 2
        }
      ]
    },
    {
      "cell_type": "code",
      "source": [
        "import pandas as pd"
      ],
      "metadata": {
        "id": "2P7LbPC_BwFR"
      },
      "execution_count": 3,
      "outputs": []
    },
    {
      "cell_type": "code",
      "source": [
        "data = pd.read_csv(\"fuel_consumption.csv\")\n",
        "data.head()"
      ],
      "metadata": {
        "colab": {
          "base_uri": "https://localhost:8080/",
          "height": 302
        },
        "id": "aGad_PoXB66J",
        "outputId": "b6b212b2-dd16-4e1b-b363-7ac0422b886a"
      },
      "execution_count": 5,
      "outputs": [
        {
          "output_type": "execute_result",
          "data": {
            "text/html": [
              "\n",
              "  <div id=\"df-40b03724-9fa4-4efb-b323-87b33cd171fe\">\n",
              "    <div class=\"colab-df-container\">\n",
              "      <div>\n",
              "<style scoped>\n",
              "    .dataframe tbody tr th:only-of-type {\n",
              "        vertical-align: middle;\n",
              "    }\n",
              "\n",
              "    .dataframe tbody tr th {\n",
              "        vertical-align: top;\n",
              "    }\n",
              "\n",
              "    .dataframe thead th {\n",
              "        text-align: right;\n",
              "    }\n",
              "</style>\n",
              "<table border=\"1\" class=\"dataframe\">\n",
              "  <thead>\n",
              "    <tr style=\"text-align: right;\">\n",
              "      <th></th>\n",
              "      <th>Model Year</th>\n",
              "      <th>Make</th>\n",
              "      <th>Model</th>\n",
              "      <th>Vehicle Class</th>\n",
              "      <th>Engine Size (L)</th>\n",
              "      <th>Cylinders</th>\n",
              "      <th>Transmission</th>\n",
              "      <th>Fuel Type</th>\n",
              "      <th>City (L/100 km)</th>\n",
              "      <th>Hwy (L/100 km)</th>\n",
              "      <th>Comb (L/100 km)</th>\n",
              "      <th>Comb (mpg)</th>\n",
              "      <th>CO2 Emissions (g/km)</th>\n",
              "      <th>CO2 Rating</th>\n",
              "      <th>Smog Rating</th>\n",
              "    </tr>\n",
              "  </thead>\n",
              "  <tbody>\n",
              "    <tr>\n",
              "      <th>0</th>\n",
              "      <td>2019</td>\n",
              "      <td>Acura</td>\n",
              "      <td>ILX</td>\n",
              "      <td>Compact</td>\n",
              "      <td>2.4</td>\n",
              "      <td>4</td>\n",
              "      <td>AM8</td>\n",
              "      <td>Z</td>\n",
              "      <td>9.9</td>\n",
              "      <td>7.0</td>\n",
              "      <td>8.6</td>\n",
              "      <td>33</td>\n",
              "      <td>199</td>\n",
              "      <td>6</td>\n",
              "      <td>3</td>\n",
              "    </tr>\n",
              "    <tr>\n",
              "      <th>1</th>\n",
              "      <td>2019</td>\n",
              "      <td>Acura</td>\n",
              "      <td>MDX SH-AWD</td>\n",
              "      <td>SUV: Small</td>\n",
              "      <td>3.5</td>\n",
              "      <td>6</td>\n",
              "      <td>AS9</td>\n",
              "      <td>Z</td>\n",
              "      <td>12.2</td>\n",
              "      <td>9.0</td>\n",
              "      <td>10.8</td>\n",
              "      <td>26</td>\n",
              "      <td>252</td>\n",
              "      <td>4</td>\n",
              "      <td>3</td>\n",
              "    </tr>\n",
              "    <tr>\n",
              "      <th>2</th>\n",
              "      <td>2019</td>\n",
              "      <td>Acura</td>\n",
              "      <td>MDX SH-AWD A-SPEC</td>\n",
              "      <td>SUV: Small</td>\n",
              "      <td>3.5</td>\n",
              "      <td>6</td>\n",
              "      <td>AS9</td>\n",
              "      <td>Z</td>\n",
              "      <td>12.2</td>\n",
              "      <td>9.5</td>\n",
              "      <td>11.0</td>\n",
              "      <td>26</td>\n",
              "      <td>258</td>\n",
              "      <td>4</td>\n",
              "      <td>3</td>\n",
              "    </tr>\n",
              "    <tr>\n",
              "      <th>3</th>\n",
              "      <td>2019</td>\n",
              "      <td>Acura</td>\n",
              "      <td>MDX Hybrid AWD</td>\n",
              "      <td>SUV: Small</td>\n",
              "      <td>3.0</td>\n",
              "      <td>6</td>\n",
              "      <td>AM7</td>\n",
              "      <td>Z</td>\n",
              "      <td>9.1</td>\n",
              "      <td>9.0</td>\n",
              "      <td>9.0</td>\n",
              "      <td>31</td>\n",
              "      <td>210</td>\n",
              "      <td>5</td>\n",
              "      <td>3</td>\n",
              "    </tr>\n",
              "    <tr>\n",
              "      <th>4</th>\n",
              "      <td>2019</td>\n",
              "      <td>Acura</td>\n",
              "      <td>NSX</td>\n",
              "      <td>Two-seater</td>\n",
              "      <td>3.5</td>\n",
              "      <td>6</td>\n",
              "      <td>AM9</td>\n",
              "      <td>Z</td>\n",
              "      <td>11.1</td>\n",
              "      <td>10.8</td>\n",
              "      <td>11.0</td>\n",
              "      <td>26</td>\n",
              "      <td>261</td>\n",
              "      <td>4</td>\n",
              "      <td>3</td>\n",
              "    </tr>\n",
              "  </tbody>\n",
              "</table>\n",
              "</div>\n",
              "      <button class=\"colab-df-convert\" onclick=\"convertToInteractive('df-40b03724-9fa4-4efb-b323-87b33cd171fe')\"\n",
              "              title=\"Convert this dataframe to an interactive table.\"\n",
              "              style=\"display:none;\">\n",
              "        \n",
              "  <svg xmlns=\"http://www.w3.org/2000/svg\" height=\"24px\"viewBox=\"0 0 24 24\"\n",
              "       width=\"24px\">\n",
              "    <path d=\"M0 0h24v24H0V0z\" fill=\"none\"/>\n",
              "    <path d=\"M18.56 5.44l.94 2.06.94-2.06 2.06-.94-2.06-.94-.94-2.06-.94 2.06-2.06.94zm-11 1L8.5 8.5l.94-2.06 2.06-.94-2.06-.94L8.5 2.5l-.94 2.06-2.06.94zm10 10l.94 2.06.94-2.06 2.06-.94-2.06-.94-.94-2.06-.94 2.06-2.06.94z\"/><path d=\"M17.41 7.96l-1.37-1.37c-.4-.4-.92-.59-1.43-.59-.52 0-1.04.2-1.43.59L10.3 9.45l-7.72 7.72c-.78.78-.78 2.05 0 2.83L4 21.41c.39.39.9.59 1.41.59.51 0 1.02-.2 1.41-.59l7.78-7.78 2.81-2.81c.8-.78.8-2.07 0-2.86zM5.41 20L4 18.59l7.72-7.72 1.47 1.35L5.41 20z\"/>\n",
              "  </svg>\n",
              "      </button>\n",
              "      \n",
              "  <style>\n",
              "    .colab-df-container {\n",
              "      display:flex;\n",
              "      flex-wrap:wrap;\n",
              "      gap: 12px;\n",
              "    }\n",
              "\n",
              "    .colab-df-convert {\n",
              "      background-color: #E8F0FE;\n",
              "      border: none;\n",
              "      border-radius: 50%;\n",
              "      cursor: pointer;\n",
              "      display: none;\n",
              "      fill: #1967D2;\n",
              "      height: 32px;\n",
              "      padding: 0 0 0 0;\n",
              "      width: 32px;\n",
              "    }\n",
              "\n",
              "    .colab-df-convert:hover {\n",
              "      background-color: #E2EBFA;\n",
              "      box-shadow: 0px 1px 2px rgba(60, 64, 67, 0.3), 0px 1px 3px 1px rgba(60, 64, 67, 0.15);\n",
              "      fill: #174EA6;\n",
              "    }\n",
              "\n",
              "    [theme=dark] .colab-df-convert {\n",
              "      background-color: #3B4455;\n",
              "      fill: #D2E3FC;\n",
              "    }\n",
              "\n",
              "    [theme=dark] .colab-df-convert:hover {\n",
              "      background-color: #434B5C;\n",
              "      box-shadow: 0px 1px 3px 1px rgba(0, 0, 0, 0.15);\n",
              "      filter: drop-shadow(0px 1px 2px rgba(0, 0, 0, 0.3));\n",
              "      fill: #FFFFFF;\n",
              "    }\n",
              "  </style>\n",
              "\n",
              "      <script>\n",
              "        const buttonEl =\n",
              "          document.querySelector('#df-40b03724-9fa4-4efb-b323-87b33cd171fe button.colab-df-convert');\n",
              "        buttonEl.style.display =\n",
              "          google.colab.kernel.accessAllowed ? 'block' : 'none';\n",
              "\n",
              "        async function convertToInteractive(key) {\n",
              "          const element = document.querySelector('#df-40b03724-9fa4-4efb-b323-87b33cd171fe');\n",
              "          const dataTable =\n",
              "            await google.colab.kernel.invokeFunction('convertToInteractive',\n",
              "                                                     [key], {});\n",
              "          if (!dataTable) return;\n",
              "\n",
              "          const docLinkHtml = 'Like what you see? Visit the ' +\n",
              "            '<a target=\"_blank\" href=https://colab.research.google.com/notebooks/data_table.ipynb>data table notebook</a>'\n",
              "            + ' to learn more about interactive tables.';\n",
              "          element.innerHTML = '';\n",
              "          dataTable['output_type'] = 'display_data';\n",
              "          await google.colab.output.renderOutput(dataTable, element);\n",
              "          const docLink = document.createElement('div');\n",
              "          docLink.innerHTML = docLinkHtml;\n",
              "          element.appendChild(docLink);\n",
              "        }\n",
              "      </script>\n",
              "    </div>\n",
              "  </div>\n",
              "  "
            ],
            "text/plain": [
              "   Model Year   Make  ... CO2 Rating Smog Rating\n",
              "0        2019  Acura  ...          6           3\n",
              "1        2019  Acura  ...          4           3\n",
              "2        2019  Acura  ...          4           3\n",
              "3        2019  Acura  ...          5           3\n",
              "4        2019  Acura  ...          4           3\n",
              "\n",
              "[5 rows x 15 columns]"
            ]
          },
          "metadata": {},
          "execution_count": 5
        }
      ]
    },
    {
      "cell_type": "code",
      "source": [
        "data.info()"
      ],
      "metadata": {
        "colab": {
          "base_uri": "https://localhost:8080/"
        },
        "id": "MSh-ulDhCAme",
        "outputId": "8d9c77b0-56d5-4611-d8da-705fe8fa86b0"
      },
      "execution_count": 6,
      "outputs": [
        {
          "output_type": "stream",
          "name": "stdout",
          "text": [
            "<class 'pandas.core.frame.DataFrame'>\n",
            "RangeIndex: 1049 entries, 0 to 1048\n",
            "Data columns (total 15 columns):\n",
            " #   Column                Non-Null Count  Dtype  \n",
            "---  ------                --------------  -----  \n",
            " 0   Model Year            1049 non-null   int64  \n",
            " 1   Make                  1049 non-null   object \n",
            " 2   Model                 1049 non-null   object \n",
            " 3   Vehicle Class         1049 non-null   object \n",
            " 4   Engine Size (L)       1049 non-null   float64\n",
            " 5   Cylinders             1049 non-null   int64  \n",
            " 6   Transmission          1049 non-null   object \n",
            " 7   Fuel Type             1049 non-null   object \n",
            " 8   City (L/100 km)       1049 non-null   float64\n",
            " 9   Hwy (L/100 km)        1049 non-null   float64\n",
            " 10  Comb (L/100 km)       1049 non-null   float64\n",
            " 11  Comb (mpg)            1049 non-null   int64  \n",
            " 12  CO2 Emissions (g/km)  1049 non-null   int64  \n",
            " 13  CO2 Rating            1049 non-null   int64  \n",
            " 14  Smog Rating           1049 non-null   int64  \n",
            "dtypes: float64(4), int64(6), object(5)\n",
            "memory usage: 123.1+ KB\n"
          ]
        }
      ]
    },
    {
      "cell_type": "code",
      "source": [
        "X = data.drop(columns=[\"CO2 Emissions (g/km)\"])\n",
        "y = data[[\"CO2 Emissions (g/km)\"]]"
      ],
      "metadata": {
        "id": "pon9CWNNCOD1"
      },
      "execution_count": 23,
      "outputs": []
    },
    {
      "cell_type": "code",
      "source": [
        "X = X.drop(columns=['Make','Model','Vehicle Class','Transmission'])"
      ],
      "metadata": {
        "id": "PRl4xMrzCas1"
      },
      "execution_count": 24,
      "outputs": []
    },
    {
      "cell_type": "code",
      "source": [
        "X[\"Fuel Type\"].value_counts()"
      ],
      "metadata": {
        "colab": {
          "base_uri": "https://localhost:8080/"
        },
        "id": "TBWjo7xECciE",
        "outputId": "347ac54b-a4fd-436c-908c-78429e0011bf"
      },
      "execution_count": 25,
      "outputs": [
        {
          "output_type": "execute_result",
          "data": {
            "text/plain": [
              "X    500\n",
              "Z    484\n",
              "E     38\n",
              "D     27\n",
              "Name: Fuel Type, dtype: int64"
            ]
          },
          "metadata": {},
          "execution_count": 25
        }
      ]
    },
    {
      "cell_type": "code",
      "source": [
        "#One hot encoding\n",
        "from pandas import get_dummies\n",
        "temp = get_dummies(X[\"Fuel Type\"],prefix=\"Fuel\")\n",
        "temp.head()"
      ],
      "metadata": {
        "colab": {
          "base_uri": "https://localhost:8080/",
          "height": 206
        },
        "id": "0H1DNBJkCucg",
        "outputId": "64e7cba0-1d60-4e68-d5f2-0c78bd69909e"
      },
      "execution_count": 26,
      "outputs": [
        {
          "output_type": "execute_result",
          "data": {
            "text/html": [
              "\n",
              "  <div id=\"df-1f9ae8f9-6842-42d4-b5d7-919f70b35323\">\n",
              "    <div class=\"colab-df-container\">\n",
              "      <div>\n",
              "<style scoped>\n",
              "    .dataframe tbody tr th:only-of-type {\n",
              "        vertical-align: middle;\n",
              "    }\n",
              "\n",
              "    .dataframe tbody tr th {\n",
              "        vertical-align: top;\n",
              "    }\n",
              "\n",
              "    .dataframe thead th {\n",
              "        text-align: right;\n",
              "    }\n",
              "</style>\n",
              "<table border=\"1\" class=\"dataframe\">\n",
              "  <thead>\n",
              "    <tr style=\"text-align: right;\">\n",
              "      <th></th>\n",
              "      <th>Fuel_D</th>\n",
              "      <th>Fuel_E</th>\n",
              "      <th>Fuel_X</th>\n",
              "      <th>Fuel_Z</th>\n",
              "    </tr>\n",
              "  </thead>\n",
              "  <tbody>\n",
              "    <tr>\n",
              "      <th>0</th>\n",
              "      <td>0</td>\n",
              "      <td>0</td>\n",
              "      <td>0</td>\n",
              "      <td>1</td>\n",
              "    </tr>\n",
              "    <tr>\n",
              "      <th>1</th>\n",
              "      <td>0</td>\n",
              "      <td>0</td>\n",
              "      <td>0</td>\n",
              "      <td>1</td>\n",
              "    </tr>\n",
              "    <tr>\n",
              "      <th>2</th>\n",
              "      <td>0</td>\n",
              "      <td>0</td>\n",
              "      <td>0</td>\n",
              "      <td>1</td>\n",
              "    </tr>\n",
              "    <tr>\n",
              "      <th>3</th>\n",
              "      <td>0</td>\n",
              "      <td>0</td>\n",
              "      <td>0</td>\n",
              "      <td>1</td>\n",
              "    </tr>\n",
              "    <tr>\n",
              "      <th>4</th>\n",
              "      <td>0</td>\n",
              "      <td>0</td>\n",
              "      <td>0</td>\n",
              "      <td>1</td>\n",
              "    </tr>\n",
              "  </tbody>\n",
              "</table>\n",
              "</div>\n",
              "      <button class=\"colab-df-convert\" onclick=\"convertToInteractive('df-1f9ae8f9-6842-42d4-b5d7-919f70b35323')\"\n",
              "              title=\"Convert this dataframe to an interactive table.\"\n",
              "              style=\"display:none;\">\n",
              "        \n",
              "  <svg xmlns=\"http://www.w3.org/2000/svg\" height=\"24px\"viewBox=\"0 0 24 24\"\n",
              "       width=\"24px\">\n",
              "    <path d=\"M0 0h24v24H0V0z\" fill=\"none\"/>\n",
              "    <path d=\"M18.56 5.44l.94 2.06.94-2.06 2.06-.94-2.06-.94-.94-2.06-.94 2.06-2.06.94zm-11 1L8.5 8.5l.94-2.06 2.06-.94-2.06-.94L8.5 2.5l-.94 2.06-2.06.94zm10 10l.94 2.06.94-2.06 2.06-.94-2.06-.94-.94-2.06-.94 2.06-2.06.94z\"/><path d=\"M17.41 7.96l-1.37-1.37c-.4-.4-.92-.59-1.43-.59-.52 0-1.04.2-1.43.59L10.3 9.45l-7.72 7.72c-.78.78-.78 2.05 0 2.83L4 21.41c.39.39.9.59 1.41.59.51 0 1.02-.2 1.41-.59l7.78-7.78 2.81-2.81c.8-.78.8-2.07 0-2.86zM5.41 20L4 18.59l7.72-7.72 1.47 1.35L5.41 20z\"/>\n",
              "  </svg>\n",
              "      </button>\n",
              "      \n",
              "  <style>\n",
              "    .colab-df-container {\n",
              "      display:flex;\n",
              "      flex-wrap:wrap;\n",
              "      gap: 12px;\n",
              "    }\n",
              "\n",
              "    .colab-df-convert {\n",
              "      background-color: #E8F0FE;\n",
              "      border: none;\n",
              "      border-radius: 50%;\n",
              "      cursor: pointer;\n",
              "      display: none;\n",
              "      fill: #1967D2;\n",
              "      height: 32px;\n",
              "      padding: 0 0 0 0;\n",
              "      width: 32px;\n",
              "    }\n",
              "\n",
              "    .colab-df-convert:hover {\n",
              "      background-color: #E2EBFA;\n",
              "      box-shadow: 0px 1px 2px rgba(60, 64, 67, 0.3), 0px 1px 3px 1px rgba(60, 64, 67, 0.15);\n",
              "      fill: #174EA6;\n",
              "    }\n",
              "\n",
              "    [theme=dark] .colab-df-convert {\n",
              "      background-color: #3B4455;\n",
              "      fill: #D2E3FC;\n",
              "    }\n",
              "\n",
              "    [theme=dark] .colab-df-convert:hover {\n",
              "      background-color: #434B5C;\n",
              "      box-shadow: 0px 1px 3px 1px rgba(0, 0, 0, 0.15);\n",
              "      filter: drop-shadow(0px 1px 2px rgba(0, 0, 0, 0.3));\n",
              "      fill: #FFFFFF;\n",
              "    }\n",
              "  </style>\n",
              "\n",
              "      <script>\n",
              "        const buttonEl =\n",
              "          document.querySelector('#df-1f9ae8f9-6842-42d4-b5d7-919f70b35323 button.colab-df-convert');\n",
              "        buttonEl.style.display =\n",
              "          google.colab.kernel.accessAllowed ? 'block' : 'none';\n",
              "\n",
              "        async function convertToInteractive(key) {\n",
              "          const element = document.querySelector('#df-1f9ae8f9-6842-42d4-b5d7-919f70b35323');\n",
              "          const dataTable =\n",
              "            await google.colab.kernel.invokeFunction('convertToInteractive',\n",
              "                                                     [key], {});\n",
              "          if (!dataTable) return;\n",
              "\n",
              "          const docLinkHtml = 'Like what you see? Visit the ' +\n",
              "            '<a target=\"_blank\" href=https://colab.research.google.com/notebooks/data_table.ipynb>data table notebook</a>'\n",
              "            + ' to learn more about interactive tables.';\n",
              "          element.innerHTML = '';\n",
              "          dataTable['output_type'] = 'display_data';\n",
              "          await google.colab.output.renderOutput(dataTable, element);\n",
              "          const docLink = document.createElement('div');\n",
              "          docLink.innerHTML = docLinkHtml;\n",
              "          element.appendChild(docLink);\n",
              "        }\n",
              "      </script>\n",
              "    </div>\n",
              "  </div>\n",
              "  "
            ],
            "text/plain": [
              "   Fuel_D  Fuel_E  Fuel_X  Fuel_Z\n",
              "0       0       0       0       1\n",
              "1       0       0       0       1\n",
              "2       0       0       0       1\n",
              "3       0       0       0       1\n",
              "4       0       0       0       1"
            ]
          },
          "metadata": {},
          "execution_count": 26
        }
      ]
    },
    {
      "cell_type": "code",
      "source": [
        "X = pd.concat([X,temp],axis=1)\n",
        "X = X.drop(columns=[\"Fuel Type\"])\n",
        "X.head()"
      ],
      "metadata": {
        "colab": {
          "base_uri": "https://localhost:8080/",
          "height": 206
        },
        "id": "X5uLsGvvDGcB",
        "outputId": "c84dde2d-6819-436e-a8b8-ea6cd1a76fce"
      },
      "execution_count": 27,
      "outputs": [
        {
          "output_type": "execute_result",
          "data": {
            "text/html": [
              "\n",
              "  <div id=\"df-4ab3d0d0-2e95-4e6d-b285-dde1c84a59d4\">\n",
              "    <div class=\"colab-df-container\">\n",
              "      <div>\n",
              "<style scoped>\n",
              "    .dataframe tbody tr th:only-of-type {\n",
              "        vertical-align: middle;\n",
              "    }\n",
              "\n",
              "    .dataframe tbody tr th {\n",
              "        vertical-align: top;\n",
              "    }\n",
              "\n",
              "    .dataframe thead th {\n",
              "        text-align: right;\n",
              "    }\n",
              "</style>\n",
              "<table border=\"1\" class=\"dataframe\">\n",
              "  <thead>\n",
              "    <tr style=\"text-align: right;\">\n",
              "      <th></th>\n",
              "      <th>Model Year</th>\n",
              "      <th>Engine Size (L)</th>\n",
              "      <th>Cylinders</th>\n",
              "      <th>City (L/100 km)</th>\n",
              "      <th>Hwy (L/100 km)</th>\n",
              "      <th>Comb (L/100 km)</th>\n",
              "      <th>Comb (mpg)</th>\n",
              "      <th>CO2 Rating</th>\n",
              "      <th>Smog Rating</th>\n",
              "      <th>Fuel_D</th>\n",
              "      <th>Fuel_E</th>\n",
              "      <th>Fuel_X</th>\n",
              "      <th>Fuel_Z</th>\n",
              "    </tr>\n",
              "  </thead>\n",
              "  <tbody>\n",
              "    <tr>\n",
              "      <th>0</th>\n",
              "      <td>2019</td>\n",
              "      <td>2.4</td>\n",
              "      <td>4</td>\n",
              "      <td>9.9</td>\n",
              "      <td>7.0</td>\n",
              "      <td>8.6</td>\n",
              "      <td>33</td>\n",
              "      <td>6</td>\n",
              "      <td>3</td>\n",
              "      <td>0</td>\n",
              "      <td>0</td>\n",
              "      <td>0</td>\n",
              "      <td>1</td>\n",
              "    </tr>\n",
              "    <tr>\n",
              "      <th>1</th>\n",
              "      <td>2019</td>\n",
              "      <td>3.5</td>\n",
              "      <td>6</td>\n",
              "      <td>12.2</td>\n",
              "      <td>9.0</td>\n",
              "      <td>10.8</td>\n",
              "      <td>26</td>\n",
              "      <td>4</td>\n",
              "      <td>3</td>\n",
              "      <td>0</td>\n",
              "      <td>0</td>\n",
              "      <td>0</td>\n",
              "      <td>1</td>\n",
              "    </tr>\n",
              "    <tr>\n",
              "      <th>2</th>\n",
              "      <td>2019</td>\n",
              "      <td>3.5</td>\n",
              "      <td>6</td>\n",
              "      <td>12.2</td>\n",
              "      <td>9.5</td>\n",
              "      <td>11.0</td>\n",
              "      <td>26</td>\n",
              "      <td>4</td>\n",
              "      <td>3</td>\n",
              "      <td>0</td>\n",
              "      <td>0</td>\n",
              "      <td>0</td>\n",
              "      <td>1</td>\n",
              "    </tr>\n",
              "    <tr>\n",
              "      <th>3</th>\n",
              "      <td>2019</td>\n",
              "      <td>3.0</td>\n",
              "      <td>6</td>\n",
              "      <td>9.1</td>\n",
              "      <td>9.0</td>\n",
              "      <td>9.0</td>\n",
              "      <td>31</td>\n",
              "      <td>5</td>\n",
              "      <td>3</td>\n",
              "      <td>0</td>\n",
              "      <td>0</td>\n",
              "      <td>0</td>\n",
              "      <td>1</td>\n",
              "    </tr>\n",
              "    <tr>\n",
              "      <th>4</th>\n",
              "      <td>2019</td>\n",
              "      <td>3.5</td>\n",
              "      <td>6</td>\n",
              "      <td>11.1</td>\n",
              "      <td>10.8</td>\n",
              "      <td>11.0</td>\n",
              "      <td>26</td>\n",
              "      <td>4</td>\n",
              "      <td>3</td>\n",
              "      <td>0</td>\n",
              "      <td>0</td>\n",
              "      <td>0</td>\n",
              "      <td>1</td>\n",
              "    </tr>\n",
              "  </tbody>\n",
              "</table>\n",
              "</div>\n",
              "      <button class=\"colab-df-convert\" onclick=\"convertToInteractive('df-4ab3d0d0-2e95-4e6d-b285-dde1c84a59d4')\"\n",
              "              title=\"Convert this dataframe to an interactive table.\"\n",
              "              style=\"display:none;\">\n",
              "        \n",
              "  <svg xmlns=\"http://www.w3.org/2000/svg\" height=\"24px\"viewBox=\"0 0 24 24\"\n",
              "       width=\"24px\">\n",
              "    <path d=\"M0 0h24v24H0V0z\" fill=\"none\"/>\n",
              "    <path d=\"M18.56 5.44l.94 2.06.94-2.06 2.06-.94-2.06-.94-.94-2.06-.94 2.06-2.06.94zm-11 1L8.5 8.5l.94-2.06 2.06-.94-2.06-.94L8.5 2.5l-.94 2.06-2.06.94zm10 10l.94 2.06.94-2.06 2.06-.94-2.06-.94-.94-2.06-.94 2.06-2.06.94z\"/><path d=\"M17.41 7.96l-1.37-1.37c-.4-.4-.92-.59-1.43-.59-.52 0-1.04.2-1.43.59L10.3 9.45l-7.72 7.72c-.78.78-.78 2.05 0 2.83L4 21.41c.39.39.9.59 1.41.59.51 0 1.02-.2 1.41-.59l7.78-7.78 2.81-2.81c.8-.78.8-2.07 0-2.86zM5.41 20L4 18.59l7.72-7.72 1.47 1.35L5.41 20z\"/>\n",
              "  </svg>\n",
              "      </button>\n",
              "      \n",
              "  <style>\n",
              "    .colab-df-container {\n",
              "      display:flex;\n",
              "      flex-wrap:wrap;\n",
              "      gap: 12px;\n",
              "    }\n",
              "\n",
              "    .colab-df-convert {\n",
              "      background-color: #E8F0FE;\n",
              "      border: none;\n",
              "      border-radius: 50%;\n",
              "      cursor: pointer;\n",
              "      display: none;\n",
              "      fill: #1967D2;\n",
              "      height: 32px;\n",
              "      padding: 0 0 0 0;\n",
              "      width: 32px;\n",
              "    }\n",
              "\n",
              "    .colab-df-convert:hover {\n",
              "      background-color: #E2EBFA;\n",
              "      box-shadow: 0px 1px 2px rgba(60, 64, 67, 0.3), 0px 1px 3px 1px rgba(60, 64, 67, 0.15);\n",
              "      fill: #174EA6;\n",
              "    }\n",
              "\n",
              "    [theme=dark] .colab-df-convert {\n",
              "      background-color: #3B4455;\n",
              "      fill: #D2E3FC;\n",
              "    }\n",
              "\n",
              "    [theme=dark] .colab-df-convert:hover {\n",
              "      background-color: #434B5C;\n",
              "      box-shadow: 0px 1px 3px 1px rgba(0, 0, 0, 0.15);\n",
              "      filter: drop-shadow(0px 1px 2px rgba(0, 0, 0, 0.3));\n",
              "      fill: #FFFFFF;\n",
              "    }\n",
              "  </style>\n",
              "\n",
              "      <script>\n",
              "        const buttonEl =\n",
              "          document.querySelector('#df-4ab3d0d0-2e95-4e6d-b285-dde1c84a59d4 button.colab-df-convert');\n",
              "        buttonEl.style.display =\n",
              "          google.colab.kernel.accessAllowed ? 'block' : 'none';\n",
              "\n",
              "        async function convertToInteractive(key) {\n",
              "          const element = document.querySelector('#df-4ab3d0d0-2e95-4e6d-b285-dde1c84a59d4');\n",
              "          const dataTable =\n",
              "            await google.colab.kernel.invokeFunction('convertToInteractive',\n",
              "                                                     [key], {});\n",
              "          if (!dataTable) return;\n",
              "\n",
              "          const docLinkHtml = 'Like what you see? Visit the ' +\n",
              "            '<a target=\"_blank\" href=https://colab.research.google.com/notebooks/data_table.ipynb>data table notebook</a>'\n",
              "            + ' to learn more about interactive tables.';\n",
              "          element.innerHTML = '';\n",
              "          dataTable['output_type'] = 'display_data';\n",
              "          await google.colab.output.renderOutput(dataTable, element);\n",
              "          const docLink = document.createElement('div');\n",
              "          docLink.innerHTML = docLinkHtml;\n",
              "          element.appendChild(docLink);\n",
              "        }\n",
              "      </script>\n",
              "    </div>\n",
              "  </div>\n",
              "  "
            ],
            "text/plain": [
              "   Model Year  Engine Size (L)  Cylinders  ...  Fuel_E  Fuel_X  Fuel_Z\n",
              "0        2019              2.4          4  ...       0       0       1\n",
              "1        2019              3.5          6  ...       0       0       1\n",
              "2        2019              3.5          6  ...       0       0       1\n",
              "3        2019              3.0          6  ...       0       0       1\n",
              "4        2019              3.5          6  ...       0       0       1\n",
              "\n",
              "[5 rows x 13 columns]"
            ]
          },
          "metadata": {},
          "execution_count": 27
        }
      ]
    },
    {
      "cell_type": "code",
      "source": [
        "X = X.drop(columns=[\"Model Year\"])"
      ],
      "metadata": {
        "id": "N0QfrrMZEkSH"
      },
      "execution_count": 29,
      "outputs": []
    },
    {
      "cell_type": "code",
      "source": [
        "from sklearn.linear_model import LinearRegression"
      ],
      "metadata": {
        "id": "Rw2BZ4gmDvw7"
      },
      "execution_count": 30,
      "outputs": []
    },
    {
      "cell_type": "code",
      "source": [
        "LR = LinearRegression()"
      ],
      "metadata": {
        "id": "fdxREznhEc1b"
      },
      "execution_count": 31,
      "outputs": []
    },
    {
      "cell_type": "code",
      "source": [
        "LR.fit(X,y)"
      ],
      "metadata": {
        "colab": {
          "base_uri": "https://localhost:8080/"
        },
        "id": "SOQINVH7EpNC",
        "outputId": "abadec10-eb3e-4901-ae8e-09b492b27dd3"
      },
      "execution_count": 32,
      "outputs": [
        {
          "output_type": "execute_result",
          "data": {
            "text/plain": [
              "LinearRegression()"
            ]
          },
          "metadata": {},
          "execution_count": 32
        }
      ]
    },
    {
      "cell_type": "code",
      "source": [
        "y_pred = LR.predict(X)"
      ],
      "metadata": {
        "id": "jUTYYgEPEtOm"
      },
      "execution_count": 33,
      "outputs": []
    },
    {
      "cell_type": "code",
      "source": [
        "from sklearn.metrics import r2_score,mean_squared_error"
      ],
      "metadata": {
        "id": "jF9Bl_W2Ez_K"
      },
      "execution_count": 34,
      "outputs": []
    },
    {
      "cell_type": "code",
      "source": [
        "r2_score(y,y_pred)"
      ],
      "metadata": {
        "colab": {
          "base_uri": "https://localhost:8080/"
        },
        "id": "uohdVKwxFHh2",
        "outputId": "ad72334d-676c-488f-a25a-72767fceece3"
      },
      "execution_count": 35,
      "outputs": [
        {
          "output_type": "execute_result",
          "data": {
            "text/plain": [
              "0.9973909387035239"
            ]
          },
          "metadata": {},
          "execution_count": 35
        }
      ]
    },
    {
      "cell_type": "code",
      "source": [
        "mean_squared_error(y,y_pred)"
      ],
      "metadata": {
        "colab": {
          "base_uri": "https://localhost:8080/"
        },
        "id": "xVCIdOePFKWu",
        "outputId": "2d54b69b-9329-4128-e23e-0ffefd514bba"
      },
      "execution_count": 36,
      "outputs": [
        {
          "output_type": "execute_result",
          "data": {
            "text/plain": [
              "8.463424109970681"
            ]
          },
          "metadata": {},
          "execution_count": 36
        }
      ]
    },
    {
      "cell_type": "markdown",
      "source": [
        "**train_test_split**"
      ],
      "metadata": {
        "id": "6q4hkkxDGhEF"
      }
    },
    {
      "cell_type": "code",
      "source": [
        "from sklearn.model_selection import train_test_split"
      ],
      "metadata": {
        "id": "kxUy9ORGFP32"
      },
      "execution_count": 37,
      "outputs": []
    },
    {
      "cell_type": "code",
      "source": [
        "X_train, X_test, y_train, y_test = train_test_split(X,y,test_size=0.25)"
      ],
      "metadata": {
        "id": "ujpsNywJF0x6"
      },
      "execution_count": 38,
      "outputs": []
    },
    {
      "cell_type": "code",
      "source": [
        "X_train.shape, X_test.shape"
      ],
      "metadata": {
        "colab": {
          "base_uri": "https://localhost:8080/"
        },
        "id": "bxkFrJ-nGE__",
        "outputId": "e635f2f9-a615-4d0b-a0b0-2c8331ec0076"
      },
      "execution_count": 41,
      "outputs": [
        {
          "output_type": "execute_result",
          "data": {
            "text/plain": [
              "((786, 12), (263, 12))"
            ]
          },
          "metadata": {},
          "execution_count": 41
        }
      ]
    },
    {
      "cell_type": "code",
      "source": [
        "LR.fit(X_train,y_train)"
      ],
      "metadata": {
        "colab": {
          "base_uri": "https://localhost:8080/"
        },
        "id": "NJ40I_viGIr-",
        "outputId": "e0313720-75ae-4a8a-97aa-04e09f7d8f48"
      },
      "execution_count": 42,
      "outputs": [
        {
          "output_type": "execute_result",
          "data": {
            "text/plain": [
              "LinearRegression()"
            ]
          },
          "metadata": {},
          "execution_count": 42
        }
      ]
    },
    {
      "cell_type": "code",
      "source": [
        "y_pred = LR.predict(X_test)"
      ],
      "metadata": {
        "id": "w0t_w_0qGUSN"
      },
      "execution_count": 43,
      "outputs": []
    },
    {
      "cell_type": "code",
      "source": [
        "r2_score(y_test,y_pred)"
      ],
      "metadata": {
        "colab": {
          "base_uri": "https://localhost:8080/"
        },
        "id": "PCfA2m1JGYuy",
        "outputId": "fa7d8b31-b1a1-451c-ce58-5d95496e5887"
      },
      "execution_count": 44,
      "outputs": [
        {
          "output_type": "execute_result",
          "data": {
            "text/plain": [
              "0.996300333121867"
            ]
          },
          "metadata": {},
          "execution_count": 44
        }
      ]
    },
    {
      "cell_type": "markdown",
      "source": [
        "Cross Validation Method"
      ],
      "metadata": {
        "id": "Z__ValPKGy4N"
      }
    },
    {
      "cell_type": "code",
      "source": [
        "from sklearn.model_selection import cross_val_score"
      ],
      "metadata": {
        "id": "-GK0oMXdGcuB"
      },
      "execution_count": 45,
      "outputs": []
    },
    {
      "cell_type": "code",
      "source": [
        "scores = cross_val_score(LR,X,y,cv=10)\n",
        "scores.mean()"
      ],
      "metadata": {
        "colab": {
          "base_uri": "https://localhost:8080/"
        },
        "id": "Yyy7lQq5G663",
        "outputId": "2dc5151b-224b-4e4b-bdaa-010ffcde52e4"
      },
      "execution_count": 48,
      "outputs": [
        {
          "output_type": "execute_result",
          "data": {
            "text/plain": [
              "0.996110624941412"
            ]
          },
          "metadata": {},
          "execution_count": 48
        }
      ]
    },
    {
      "cell_type": "code",
      "source": [
        ""
      ],
      "metadata": {
        "id": "aXhRYoKBHLot"
      },
      "execution_count": null,
      "outputs": []
    }
  ]
}